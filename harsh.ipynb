{
 "cells": [
  {
   "cell_type": "code",
   "execution_count": 1,
   "metadata": {},
   "outputs": [
    {
     "name": "stdout",
     "output_type": "stream",
     "text": [
      "Requirement already satisfied: chainlit in c:\\users\\pimpa\\appdata\\roaming\\python\\python311\\site-packages (0.6.402)\n",
      "Requirement already satisfied: aiofiles<24.0.0,>=23.1.0 in c:\\users\\pimpa\\appdata\\roaming\\python\\python311\\site-packages (from chainlit) (23.2.1)\n",
      "Requirement already satisfied: aiohttp<4.0.0,>=3.8.4 in c:\\users\\pimpa\\appdata\\roaming\\python\\python311\\site-packages (from chainlit) (3.8.5)\n",
      "Requirement already satisfied: asyncer<0.0.3,>=0.0.2 in c:\\users\\pimpa\\appdata\\roaming\\python\\python311\\site-packages (from chainlit) (0.0.2)\n",
      "Requirement already satisfied: auth0-python<5.0.0,>=4.4.0 in c:\\users\\pimpa\\appdata\\roaming\\python\\python311\\site-packages (from chainlit) (4.4.1)\n",
      "Requirement already satisfied: click<9.0.0,>=8.1.3 in c:\\users\\pimpa\\appdata\\roaming\\python\\python311\\site-packages (from chainlit) (8.1.3)\n",
      "Requirement already satisfied: dataclasses_json<0.6.0,>=0.5.7 in c:\\users\\pimpa\\appdata\\roaming\\python\\python311\\site-packages (from chainlit) (0.5.14)\n",
      "Requirement already satisfied: fastapi<0.100.0,>=0.99.0 in c:\\users\\pimpa\\appdata\\roaming\\python\\python311\\site-packages (from chainlit) (0.99.1)\n",
      "Requirement already satisfied: fastapi-socketio<0.0.11,>=0.0.10 in c:\\users\\pimpa\\appdata\\roaming\\python\\python311\\site-packages (from chainlit) (0.0.10)\n",
      "Requirement already satisfied: filetype<2.0.0,>=1.2.0 in c:\\python311\\lib\\site-packages (from chainlit) (1.2.0)\n",
      "Requirement already satisfied: lazify<0.5.0,>=0.4.0 in c:\\python311\\lib\\site-packages (from chainlit) (0.4.0)\n",
      "Requirement already satisfied: nest-asyncio<2.0.0,>=1.5.6 in c:\\users\\pimpa\\appdata\\roaming\\python\\python311\\site-packages (from chainlit) (1.5.7)\n",
      "Requirement already satisfied: packaging<24.0,>=23.1 in c:\\users\\pimpa\\appdata\\roaming\\python\\python311\\site-packages (from chainlit) (23.1)\n",
      "Requirement already satisfied: prisma<0.11.0,>=0.10.0 in c:\\users\\pimpa\\appdata\\roaming\\python\\python311\\site-packages (from chainlit) (0.10.0)\n",
      "Requirement already satisfied: pydantic<2.0.0,>=1.10.8 in c:\\users\\pimpa\\appdata\\roaming\\python\\python311\\site-packages (from chainlit) (1.10.12)\n",
      "Requirement already satisfied: python-dotenv<2.0.0,>=1.0.0 in c:\\python311\\lib\\site-packages (from chainlit) (1.0.0)\n",
      "Requirement already satisfied: python-graphql-client<0.5.0,>=0.4.3 in c:\\users\\pimpa\\appdata\\roaming\\python\\python311\\site-packages (from chainlit) (0.4.3)\n",
      "Requirement already satisfied: syncer<3.0.0,>=2.0.3 in c:\\python311\\lib\\site-packages (from chainlit) (2.0.3)\n",
      "Requirement already satisfied: tomli<3.0.0,>=2.0.1 in c:\\users\\pimpa\\appdata\\roaming\\python\\python311\\site-packages (from chainlit) (2.0.1)\n",
      "Requirement already satisfied: uptrace<2.0.0,>=1.18.0 in c:\\users\\pimpa\\appdata\\roaming\\python\\python311\\site-packages (from chainlit) (1.19.0)\n",
      "Requirement already satisfied: uvicorn<0.24.0,>=0.23.2 in c:\\users\\pimpa\\appdata\\roaming\\python\\python311\\site-packages (from chainlit) (0.23.2)\n",
      "Requirement already satisfied: watchfiles<0.21.0,>=0.20.0 in c:\\users\\pimpa\\appdata\\roaming\\python\\python311\\site-packages (from chainlit) (0.20.0)\n",
      "Requirement already satisfied: attrs>=17.3.0 in c:\\python311\\lib\\site-packages (from aiohttp<4.0.0,>=3.8.4->chainlit) (22.2.0)\n",
      "Requirement already satisfied: charset-normalizer<4.0,>=2.0 in c:\\python311\\lib\\site-packages (from aiohttp<4.0.0,>=3.8.4->chainlit) (3.1.0)\n",
      "Requirement already satisfied: multidict<7.0,>=4.5 in c:\\users\\pimpa\\appdata\\roaming\\python\\python311\\site-packages (from aiohttp<4.0.0,>=3.8.4->chainlit) (6.0.4)\n",
      "Requirement already satisfied: async-timeout<5.0,>=4.0.0a3 in c:\\users\\pimpa\\appdata\\roaming\\python\\python311\\site-packages (from aiohttp<4.0.0,>=3.8.4->chainlit) (4.0.3)\n",
      "Requirement already satisfied: yarl<2.0,>=1.0 in c:\\users\\pimpa\\appdata\\roaming\\python\\python311\\site-packages (from aiohttp<4.0.0,>=3.8.4->chainlit) (1.9.2)\n",
      "Requirement already satisfied: frozenlist>=1.1.1 in c:\\users\\pimpa\\appdata\\roaming\\python\\python311\\site-packages (from aiohttp<4.0.0,>=3.8.4->chainlit) (1.4.0)\n",
      "Requirement already satisfied: aiosignal>=1.1.2 in c:\\users\\pimpa\\appdata\\roaming\\python\\python311\\site-packages (from aiohttp<4.0.0,>=3.8.4->chainlit) (1.3.1)\n",
      "Requirement already satisfied: anyio<4.0.0,>=3.4.0 in c:\\users\\pimpa\\appdata\\roaming\\python\\python311\\site-packages (from asyncer<0.0.3,>=0.0.2->chainlit) (3.7.1)\n",
      "Requirement already satisfied: cryptography<42.0.0,>=41.0.3 in c:\\users\\pimpa\\appdata\\roaming\\python\\python311\\site-packages (from auth0-python<5.0.0,>=4.4.0->chainlit) (41.0.3)\n",
      "Requirement already satisfied: pyjwt<3.0.0,>=2.8.0 in c:\\users\\pimpa\\appdata\\roaming\\python\\python311\\site-packages (from auth0-python<5.0.0,>=4.4.0->chainlit) (2.8.0)\n",
      "Requirement already satisfied: pyopenssl<24.0.0,>=23.2.0 in c:\\users\\pimpa\\appdata\\roaming\\python\\python311\\site-packages (from auth0-python<5.0.0,>=4.4.0->chainlit) (23.2.0)\n",
      "Requirement already satisfied: requests<3.0.0,>=2.31.0 in c:\\users\\pimpa\\appdata\\roaming\\python\\python311\\site-packages (from auth0-python<5.0.0,>=4.4.0->chainlit) (2.31.0)\n",
      "Requirement already satisfied: colorama in c:\\python311\\lib\\site-packages (from click<9.0.0,>=8.1.3->chainlit) (0.4.6)\n",
      "Requirement already satisfied: marshmallow<4.0.0,>=3.18.0 in c:\\users\\pimpa\\appdata\\roaming\\python\\python311\\site-packages (from dataclasses_json<0.6.0,>=0.5.7->chainlit) (3.20.1)\n",
      "Requirement already satisfied: typing-inspect<1,>=0.4.0 in c:\\users\\pimpa\\appdata\\roaming\\python\\python311\\site-packages (from dataclasses_json<0.6.0,>=0.5.7->chainlit) (0.9.0)\n",
      "Requirement already satisfied: starlette<0.28.0,>=0.27.0 in c:\\users\\pimpa\\appdata\\roaming\\python\\python311\\site-packages (from fastapi<0.100.0,>=0.99.0->chainlit) (0.27.0)\n",
      "Requirement already satisfied: typing-extensions>=4.5.0 in c:\\python311\\lib\\site-packages (from fastapi<0.100.0,>=0.99.0->chainlit) (4.5.0)\n",
      "Requirement already satisfied: python-socketio>=4.6.0 in c:\\users\\pimpa\\appdata\\roaming\\python\\python311\\site-packages (from fastapi-socketio<0.0.11,>=0.0.10->chainlit) (5.9.0)\n",
      "Requirement already satisfied: httpx>=0.19.0 in c:\\users\\pimpa\\appdata\\roaming\\python\\python311\\site-packages (from prisma<0.11.0,>=0.10.0->chainlit) (0.24.1)\n",
      "Requirement already satisfied: jinja2>=2.11.2 in c:\\python311\\lib\\site-packages (from prisma<0.11.0,>=0.10.0->chainlit) (3.1.2)\n",
      "Requirement already satisfied: tomlkit in c:\\users\\pimpa\\appdata\\roaming\\python\\python311\\site-packages (from prisma<0.11.0,>=0.10.0->chainlit) (0.12.1)\n",
      "Requirement already satisfied: nodeenv in c:\\users\\pimpa\\appdata\\roaming\\python\\python311\\site-packages (from prisma<0.11.0,>=0.10.0->chainlit) (1.8.0)\n",
      "Requirement already satisfied: websockets>=5.0 in c:\\python311\\lib\\site-packages (from python-graphql-client<0.5.0,>=0.4.3->chainlit) (11.0.3)\n",
      "Requirement already satisfied: opentelemetry-api==1.19.0 in c:\\users\\pimpa\\appdata\\roaming\\python\\python311\\site-packages (from uptrace<2.0.0,>=1.18.0->chainlit) (1.19.0)\n",
      "Requirement already satisfied: opentelemetry-exporter-otlp==1.19.0 in c:\\users\\pimpa\\appdata\\roaming\\python\\python311\\site-packages (from uptrace<2.0.0,>=1.18.0->chainlit) (1.19.0)\n",
      "Requirement already satisfied: opentelemetry-instrumentation==0.40b0 in c:\\users\\pimpa\\appdata\\roaming\\python\\python311\\site-packages (from uptrace<2.0.0,>=1.18.0->chainlit) (0.40b0)\n",
      "Requirement already satisfied: opentelemetry-sdk==1.19.0 in c:\\users\\pimpa\\appdata\\roaming\\python\\python311\\site-packages (from uptrace<2.0.0,>=1.18.0->chainlit) (1.19.0)\n",
      "Requirement already satisfied: deprecated>=1.2.6 in c:\\users\\pimpa\\appdata\\roaming\\python\\python311\\site-packages (from opentelemetry-api==1.19.0->uptrace<2.0.0,>=1.18.0->chainlit) (1.2.14)\n",
      "Requirement already satisfied: importlib-metadata~=6.0 in c:\\python311\\lib\\site-packages (from opentelemetry-api==1.19.0->uptrace<2.0.0,>=1.18.0->chainlit) (6.1.0)\n",
      "Requirement already satisfied: opentelemetry-exporter-otlp-proto-grpc==1.19.0 in c:\\users\\pimpa\\appdata\\roaming\\python\\python311\\site-packages (from opentelemetry-exporter-otlp==1.19.0->uptrace<2.0.0,>=1.18.0->chainlit) (1.19.0)\n",
      "Requirement already satisfied: opentelemetry-exporter-otlp-proto-http==1.19.0 in c:\\users\\pimpa\\appdata\\roaming\\python\\python311\\site-packages (from opentelemetry-exporter-otlp==1.19.0->uptrace<2.0.0,>=1.18.0->chainlit) (1.19.0)\n",
      "Requirement already satisfied: setuptools>=16.0 in c:\\python311\\lib\\site-packages (from opentelemetry-instrumentation==0.40b0->uptrace<2.0.0,>=1.18.0->chainlit) (65.5.0)\n",
      "Requirement already satisfied: wrapt<2.0.0,>=1.0.0 in c:\\users\\pimpa\\appdata\\roaming\\python\\python311\\site-packages (from opentelemetry-instrumentation==0.40b0->uptrace<2.0.0,>=1.18.0->chainlit) (1.14.1)\n",
      "Requirement already satisfied: opentelemetry-semantic-conventions==0.40b0 in c:\\users\\pimpa\\appdata\\roaming\\python\\python311\\site-packages (from opentelemetry-sdk==1.19.0->uptrace<2.0.0,>=1.18.0->chainlit) (0.40b0)\n",
      "Requirement already satisfied: backoff<3.0.0,>=1.10.0 in c:\\users\\pimpa\\appdata\\roaming\\python\\python311\\site-packages (from opentelemetry-exporter-otlp-proto-grpc==1.19.0->opentelemetry-exporter-otlp==1.19.0->uptrace<2.0.0,>=1.18.0->chainlit) (2.2.1)\n",
      "Requirement already satisfied: googleapis-common-protos~=1.52 in c:\\users\\pimpa\\appdata\\roaming\\python\\python311\\site-packages (from opentelemetry-exporter-otlp-proto-grpc==1.19.0->opentelemetry-exporter-otlp==1.19.0->uptrace<2.0.0,>=1.18.0->chainlit) (1.60.0)\n",
      "Requirement already satisfied: grpcio<2.0.0,>=1.0.0 in c:\\users\\pimpa\\appdata\\roaming\\python\\python311\\site-packages (from opentelemetry-exporter-otlp-proto-grpc==1.19.0->opentelemetry-exporter-otlp==1.19.0->uptrace<2.0.0,>=1.18.0->chainlit) (1.57.0)\n",
      "Requirement already satisfied: opentelemetry-exporter-otlp-proto-common==1.19.0 in c:\\users\\pimpa\\appdata\\roaming\\python\\python311\\site-packages (from opentelemetry-exporter-otlp-proto-grpc==1.19.0->opentelemetry-exporter-otlp==1.19.0->uptrace<2.0.0,>=1.18.0->chainlit) (1.19.0)\n",
      "Requirement already satisfied: opentelemetry-proto==1.19.0 in c:\\users\\pimpa\\appdata\\roaming\\python\\python311\\site-packages (from opentelemetry-exporter-otlp-proto-grpc==1.19.0->opentelemetry-exporter-otlp==1.19.0->uptrace<2.0.0,>=1.18.0->chainlit) (1.19.0)\n",
      "Requirement already satisfied: protobuf<5.0,>=3.19 in c:\\python311\\lib\\site-packages (from opentelemetry-proto==1.19.0->opentelemetry-exporter-otlp-proto-grpc==1.19.0->opentelemetry-exporter-otlp==1.19.0->uptrace<2.0.0,>=1.18.0->chainlit) (3.20.3)\n",
      "Requirement already satisfied: h11>=0.8 in c:\\python311\\lib\\site-packages (from uvicorn<0.24.0,>=0.23.2->chainlit) (0.14.0)\n",
      "Requirement already satisfied: idna>=2.8 in c:\\python311\\lib\\site-packages (from anyio<4.0.0,>=3.4.0->asyncer<0.0.3,>=0.0.2->chainlit) (3.4)\n",
      "Requirement already satisfied: sniffio>=1.1 in c:\\python311\\lib\\site-packages (from anyio<4.0.0,>=3.4.0->asyncer<0.0.3,>=0.0.2->chainlit) (1.3.0)\n",
      "Requirement already satisfied: cffi>=1.12 in c:\\python311\\lib\\site-packages (from cryptography<42.0.0,>=41.0.3->auth0-python<5.0.0,>=4.4.0->chainlit) (1.15.1)\n",
      "Requirement already satisfied: certifi in c:\\python311\\lib\\site-packages (from httpx>=0.19.0->prisma<0.11.0,>=0.10.0->chainlit) (2022.12.7)\n",
      "Requirement already satisfied: httpcore<0.18.0,>=0.15.0 in c:\\users\\pimpa\\appdata\\roaming\\python\\python311\\site-packages (from httpx>=0.19.0->prisma<0.11.0,>=0.10.0->chainlit) (0.17.3)\n",
      "Requirement already satisfied: MarkupSafe>=2.0 in c:\\python311\\lib\\site-packages (from jinja2>=2.11.2->prisma<0.11.0,>=0.10.0->chainlit) (2.1.2)\n",
      "Requirement already satisfied: bidict>=0.21.0 in c:\\users\\pimpa\\appdata\\roaming\\python\\python311\\site-packages (from python-socketio>=4.6.0->fastapi-socketio<0.0.11,>=0.0.10->chainlit) (0.22.1)\n",
      "Requirement already satisfied: python-engineio>=4.7.0 in c:\\users\\pimpa\\appdata\\roaming\\python\\python311\\site-packages (from python-socketio>=4.6.0->fastapi-socketio<0.0.11,>=0.0.10->chainlit) (4.7.0)\n",
      "Requirement already satisfied: urllib3<3,>=1.21.1 in c:\\python311\\lib\\site-packages (from requests<3.0.0,>=2.31.0->auth0-python<5.0.0,>=4.4.0->chainlit) (1.26.15)\n",
      "Requirement already satisfied: mypy-extensions>=0.3.0 in c:\\users\\pimpa\\appdata\\roaming\\python\\python311\\site-packages (from typing-inspect<1,>=0.4.0->dataclasses_json<0.6.0,>=0.5.7->chainlit) (1.0.0)\n",
      "Requirement already satisfied: pycparser in c:\\python311\\lib\\site-packages (from cffi>=1.12->cryptography<42.0.0,>=41.0.3->auth0-python<5.0.0,>=4.4.0->chainlit) (2.21)\n",
      "Requirement already satisfied: zipp>=0.5 in c:\\python311\\lib\\site-packages (from importlib-metadata~=6.0->opentelemetry-api==1.19.0->uptrace<2.0.0,>=1.18.0->chainlit) (3.15.0)\n",
      "Note: you may need to restart the kernel to use updated packages.\n"
     ]
    },
    {
     "name": "stderr",
     "output_type": "stream",
     "text": [
      "\n",
      "[notice] A new release of pip is available: 23.2.1 -> 24.0\n",
      "[notice] To update, run: python.exe -m pip install --upgrade pip\n"
     ]
    }
   ],
   "source": [
    "pip install chainlit\n"
   ]
  },
  {
   "cell_type": "code",
   "execution_count": 17,
   "metadata": {},
   "outputs": [
    {
     "name": "stderr",
     "output_type": "stream",
     "text": [
      "Traceback (most recent call last):\n",
      "  File \"c:\\Harsh\\SEM 6\\AI Internship\\Setup\\gemini.py\", line 1, in <module>\n",
      "    from chainlit import chainlit, on_message\n",
      "  File \"<frozen importlib._bootstrap>\", line 1231, in _handle_fromlist\n",
      "  File \"C:\\Users\\pimpa\\AppData\\Roaming\\Python\\Python311\\site-packages\\chainlit\\utils.py\", line 65, in __getattr__\n",
      "    module_path = registry[name]\n",
      "                  ~~~~~~~~^^^^^^\n",
      "KeyError: 'chainlit'\n"
     ]
    }
   ],
   "source": [
    "!python gemini.py"
   ]
  },
  {
   "cell_type": "code",
   "execution_count": 28,
   "metadata": {},
   "outputs": [
    {
     "name": "stdout",
     "output_type": "stream",
     "text": [
      "^C\n"
     ]
    },
    {
     "name": "stdout",
     "output_type": "stream",
     "text": [
      "\n",
      "  You can now view your Streamlit app in your browser.\n",
      "\n",
      "  Local URL: http://localhost:8503\n",
      "  Network URL: http://192.168.0.102:8503\n",
      "\n"
     ]
    },
    {
     "name": "stderr",
     "output_type": "stream",
     "text": [
      "2024-05-31 01:44:05.982 Uncaught app exception\n",
      "Traceback (most recent call last):\n",
      "  File \"C:\\Users\\pimpa\\AppData\\Roaming\\Python\\Python311\\site-packages\\streamlit\\runtime\\scriptrunner\\script_runner.py\", line 565, in _run_script\n",
      "    exec(code, module.__dict__)\n",
      "  File \"C:\\Harsh\\SEM 6\\AI Internship\\Setup\\steam.py\", line 60, in <module>\n",
      "    prompt = st.chat_input(\"Say something\")\n",
      "             ^^^^^^^^^^^^^\n",
      "AttributeError: module 'streamlit' has no attribute 'chat_input'\n",
      "2024-05-31 01:44:32.425 Uncaught app exception\n",
      "Traceback (most recent call last):\n",
      "  File \"C:\\Users\\pimpa\\AppData\\Roaming\\Python\\Python311\\site-packages\\streamlit\\runtime\\scriptrunner\\script_runner.py\", line 565, in _run_script\n",
      "    exec(code, module.__dict__)\n",
      "  File \"C:\\Harsh\\SEM 6\\AI Internship\\Setup\\steam.py\", line 60, in <module>\n",
      "    prompt = st.chat_input(\"Say something\")\n",
      "             ^^^^^^^^^^^^^\n",
      "AttributeError: module 'streamlit' has no attribute 'chat_input'\n"
     ]
    }
   ],
   "source": [
    "!streamlit run steam.py"
   ]
  },
  {
   "cell_type": "code",
   "execution_count": 37,
   "metadata": {},
   "outputs": [
    {
     "name": "stdout",
     "output_type": "stream",
     "text": [
      "^C\n"
     ]
    }
   ],
   "source": [
    "!chainlit run chain.py"
   ]
  },
  {
   "cell_type": "code",
   "execution_count": 13,
   "metadata": {},
   "outputs": [],
   "source": [
    "# !streamlit --version\n",
    "!python -m uvicorn mainServer:app --reload --port 3000\n",
    "\n"
   ]
  },
  {
   "cell_type": "code",
   "execution_count": 11,
   "metadata": {},
   "outputs": [
    {
     "name": "stdout",
     "output_type": "stream",
     "text": [
      "Requirement already satisfied: uvicorn in c:\\harsh\\sem 6\\ai internship\\setup\\myenv\\lib\\site-packages (0.30.0)\n",
      "Requirement already satisfied: click>=7.0 in c:\\harsh\\sem 6\\ai internship\\setup\\myenv\\lib\\site-packages (from uvicorn) (8.1.7)\n",
      "Requirement already satisfied: h11>=0.8 in c:\\harsh\\sem 6\\ai internship\\setup\\myenv\\lib\\site-packages (from uvicorn) (0.14.0)\n",
      "Requirement already satisfied: colorama in c:\\harsh\\sem 6\\ai internship\\setup\\myenv\\lib\\site-packages (from click>=7.0->uvicorn) (0.4.6)\n"
     ]
    },
    {
     "name": "stderr",
     "output_type": "stream",
     "text": [
      "\n",
      "[notice] A new release of pip available: 22.3.1 -> 24.0\n",
      "[notice] To update, run: python.exe -m pip install --upgrade pip\n"
     ]
    }
   ],
   "source": [
    "!pip install uvicorn\n"
   ]
  },
  {
   "cell_type": "code",
   "execution_count": 2,
   "metadata": {},
   "outputs": [
    {
     "name": "stdout",
     "output_type": "stream",
     "text": [
      "^C\n"
     ]
    }
   ],
   "source": [
    "!streamlit run steam.py\n",
    "\n"
   ]
  },
  {
   "cell_type": "code",
   "execution_count": 6,
   "metadata": {},
   "outputs": [
    {
     "name": "stdout",
     "output_type": "stream",
     "text": [
      "Requirement already satisfied: pandas in c:\\harsh\\sem 6\\ai internship\\setup\\myenv\\lib\\site-packages (2.2.2)\n",
      "Collecting chromadb\n",
      "  Using cached chromadb-0.5.0-py3-none-any.whl (526 kB)\n",
      "Requirement already satisfied: numpy>=1.23.2 in c:\\harsh\\sem 6\\ai internship\\setup\\myenv\\lib\\site-packages (from pandas) (1.26.4)\n",
      "Requirement already satisfied: python-dateutil>=2.8.2 in c:\\harsh\\sem 6\\ai internship\\setup\\myenv\\lib\\site-packages (from pandas) (2.9.0.post0)\n",
      "Requirement already satisfied: pytz>=2020.1 in c:\\harsh\\sem 6\\ai internship\\setup\\myenv\\lib\\site-packages (from pandas) (2024.1)\n",
      "Requirement already satisfied: tzdata>=2022.7 in c:\\harsh\\sem 6\\ai internship\\setup\\myenv\\lib\\site-packages (from pandas) (2024.1)\n",
      "Collecting build>=1.0.3\n",
      "  Using cached build-1.2.1-py3-none-any.whl (21 kB)\n",
      "Requirement already satisfied: requests>=2.28 in c:\\harsh\\sem 6\\ai internship\\setup\\myenv\\lib\\site-packages (from chromadb) (2.32.3)\n",
      "Requirement already satisfied: pydantic>=1.9 in c:\\harsh\\sem 6\\ai internship\\setup\\myenv\\lib\\site-packages (from chromadb) (2.7.2)\n",
      "Collecting chroma-hnswlib==0.7.3\n",
      "  Using cached chroma_hnswlib-0.7.3-cp311-cp311-win_amd64.whl (151 kB)\n",
      "Collecting fastapi>=0.95.2\n",
      "  Downloading fastapi-0.111.0-py3-none-any.whl (91 kB)\n",
      "     ---------------------------------------- 92.0/92.0 kB 5.1 MB/s eta 0:00:00\n",
      "Collecting uvicorn[standard]>=0.18.3\n",
      "  Downloading uvicorn-0.30.0-py3-none-any.whl (62 kB)\n",
      "     ---------------------------------------- 62.4/62.4 kB 3.3 MB/s eta 0:00:00\n",
      "Collecting posthog>=2.4.0\n",
      "  Using cached posthog-3.5.0-py2.py3-none-any.whl (41 kB)\n",
      "Requirement already satisfied: typing-extensions>=4.5.0 in c:\\harsh\\sem 6\\ai internship\\setup\\myenv\\lib\\site-packages (from chromadb) (4.12.0)\n",
      "Collecting onnxruntime>=1.14.1\n",
      "  Using cached onnxruntime-1.18.0-cp311-cp311-win_amd64.whl (5.6 MB)\n",
      "Collecting opentelemetry-api>=1.2.0\n",
      "  Using cached opentelemetry_api-1.24.0-py3-none-any.whl (60 kB)\n",
      "Collecting opentelemetry-exporter-otlp-proto-grpc>=1.2.0\n",
      "  Using cached opentelemetry_exporter_otlp_proto_grpc-1.24.0-py3-none-any.whl (18 kB)\n",
      "Collecting opentelemetry-instrumentation-fastapi>=0.41b0\n",
      "  Using cached opentelemetry_instrumentation_fastapi-0.45b0-py3-none-any.whl (11 kB)\n",
      "Collecting opentelemetry-sdk>=1.2.0\n",
      "  Using cached opentelemetry_sdk-1.24.0-py3-none-any.whl (106 kB)\n",
      "Collecting tokenizers>=0.13.2\n",
      "  Downloading tokenizers-0.19.1-cp311-none-win_amd64.whl (2.2 MB)\n",
      "     ---------------------------------------- 2.2/2.2 MB 7.9 MB/s eta 0:00:00\n",
      "Collecting pypika>=0.48.9\n",
      "  Using cached PyPika-0.48.9.tar.gz (67 kB)\n",
      "  Installing build dependencies: started\n",
      "  Installing build dependencies: finished with status 'done'\n",
      "  Getting requirements to build wheel: started\n",
      "  Getting requirements to build wheel: finished with status 'done'\n",
      "  Preparing metadata (pyproject.toml): started\n",
      "  Preparing metadata (pyproject.toml): finished with status 'done'\n",
      "Requirement already satisfied: tqdm>=4.65.0 in c:\\harsh\\sem 6\\ai internship\\setup\\myenv\\lib\\site-packages (from chromadb) (4.66.4)\n",
      "Collecting overrides>=7.3.1\n",
      "  Using cached overrides-7.7.0-py3-none-any.whl (17 kB)\n",
      "Collecting importlib-resources\n",
      "  Downloading importlib_resources-6.4.0-py3-none-any.whl (38 kB)\n",
      "Requirement already satisfied: grpcio>=1.58.0 in c:\\harsh\\sem 6\\ai internship\\setup\\myenv\\lib\\site-packages (from chromadb) (1.64.0)\n",
      "Collecting bcrypt>=4.0.1\n",
      "  Using cached bcrypt-4.1.3-cp39-abi3-win_amd64.whl (158 kB)\n",
      "Collecting typer>=0.9.0\n",
      "  Using cached typer-0.12.3-py3-none-any.whl (47 kB)\n",
      "Collecting kubernetes>=28.1.0\n",
      "  Using cached kubernetes-29.0.0-py2.py3-none-any.whl (1.6 MB)\n",
      "Requirement already satisfied: tenacity>=8.2.3 in c:\\harsh\\sem 6\\ai internship\\setup\\myenv\\lib\\site-packages (from chromadb) (8.3.0)\n",
      "Requirement already satisfied: PyYAML>=6.0.0 in c:\\harsh\\sem 6\\ai internship\\setup\\myenv\\lib\\site-packages (from chromadb) (6.0.1)\n",
      "Collecting mmh3>=4.0.1\n",
      "  Using cached mmh3-4.1.0-cp311-cp311-win_amd64.whl (31 kB)\n",
      "Requirement already satisfied: orjson>=3.9.12 in c:\\harsh\\sem 6\\ai internship\\setup\\myenv\\lib\\site-packages (from chromadb) (3.10.3)\n",
      "Requirement already satisfied: packaging>=19.1 in c:\\harsh\\sem 6\\ai internship\\setup\\myenv\\lib\\site-packages (from build>=1.0.3->chromadb) (23.2)\n",
      "Collecting pyproject_hooks\n",
      "  Using cached pyproject_hooks-1.1.0-py3-none-any.whl (9.2 kB)\n",
      "Requirement already satisfied: colorama in c:\\harsh\\sem 6\\ai internship\\setup\\myenv\\lib\\site-packages (from build>=1.0.3->chromadb) (0.4.6)\n",
      "Collecting starlette<0.38.0,>=0.37.2\n",
      "  Downloading starlette-0.37.2-py3-none-any.whl (71 kB)\n",
      "     ---------------------------------------- 71.9/71.9 kB 4.1 MB/s eta 0:00:00\n",
      "Collecting fastapi-cli>=0.0.2\n",
      "  Downloading fastapi_cli-0.0.4-py3-none-any.whl (9.5 kB)\n",
      "Collecting httpx>=0.23.0\n",
      "  Downloading httpx-0.27.0-py3-none-any.whl (75 kB)\n",
      "     ---------------------------------------- 75.6/75.6 kB ? eta 0:00:00\n",
      "Requirement already satisfied: jinja2>=2.11.2 in c:\\harsh\\sem 6\\ai internship\\setup\\myenv\\lib\\site-packages (from fastapi>=0.95.2->chromadb) (3.1.4)\n",
      "Collecting python-multipart>=0.0.7\n",
      "  Downloading python_multipart-0.0.9-py3-none-any.whl (22 kB)\n",
      "Collecting ujson!=4.0.2,!=4.1.0,!=4.2.0,!=4.3.0,!=5.0.0,!=5.1.0,>=4.0.1\n",
      "  Downloading ujson-5.10.0-cp311-cp311-win_amd64.whl (42 kB)\n",
      "     ---------------------------------------- 42.1/42.1 kB ? eta 0:00:00\n",
      "Collecting email_validator>=2.0.0\n",
      "  Downloading email_validator-2.1.1-py3-none-any.whl (30 kB)\n",
      "Requirement already satisfied: certifi>=14.05.14 in c:\\harsh\\sem 6\\ai internship\\setup\\myenv\\lib\\site-packages (from kubernetes>=28.1.0->chromadb) (2024.2.2)\n",
      "Requirement already satisfied: six>=1.9.0 in c:\\harsh\\sem 6\\ai internship\\setup\\myenv\\lib\\site-packages (from kubernetes>=28.1.0->chromadb) (1.16.0)\n",
      "Requirement already satisfied: google-auth>=1.0.1 in c:\\harsh\\sem 6\\ai internship\\setup\\myenv\\lib\\site-packages (from kubernetes>=28.1.0->chromadb) (2.29.0)\n",
      "Collecting websocket-client!=0.40.0,!=0.41.*,!=0.42.*,>=0.32.0\n",
      "  Using cached websocket_client-1.8.0-py3-none-any.whl (58 kB)\n",
      "Collecting requests-oauthlib\n",
      "  Downloading requests_oauthlib-2.0.0-py2.py3-none-any.whl (24 kB)\n",
      "Collecting oauthlib>=3.2.2\n",
      "  Using cached oauthlib-3.2.2-py3-none-any.whl (151 kB)\n",
      "Requirement already satisfied: urllib3>=1.24.2 in c:\\harsh\\sem 6\\ai internship\\setup\\myenv\\lib\\site-packages (from kubernetes>=28.1.0->chromadb) (2.2.1)\n",
      "Collecting coloredlogs\n",
      "  Using cached coloredlogs-15.0.1-py2.py3-none-any.whl (46 kB)\n",
      "Collecting flatbuffers\n",
      "  Downloading flatbuffers-24.3.25-py2.py3-none-any.whl (26 kB)\n",
      "Requirement already satisfied: protobuf in c:\\harsh\\sem 6\\ai internship\\setup\\myenv\\lib\\site-packages (from onnxruntime>=1.14.1->chromadb) (4.25.3)\n",
      "Collecting sympy\n",
      "  Downloading sympy-1.12.1-py3-none-any.whl (5.7 MB)\n",
      "     ---------------------------------------- 5.7/5.7 MB 7.2 MB/s eta 0:00:00\n",
      "Collecting deprecated>=1.2.6\n",
      "  Using cached Deprecated-1.2.14-py2.py3-none-any.whl (9.6 kB)\n",
      "Requirement already satisfied: importlib-metadata<=7.0,>=6.0 in c:\\harsh\\sem 6\\ai internship\\setup\\myenv\\lib\\site-packages (from opentelemetry-api>=1.2.0->chromadb) (6.11.0)\n",
      "Requirement already satisfied: googleapis-common-protos~=1.52 in c:\\harsh\\sem 6\\ai internship\\setup\\myenv\\lib\\site-packages (from opentelemetry-exporter-otlp-proto-grpc>=1.2.0->chromadb) (1.63.0)\n",
      "Collecting opentelemetry-exporter-otlp-proto-common==1.24.0\n",
      "  Using cached opentelemetry_exporter_otlp_proto_common-1.24.0-py3-none-any.whl (17 kB)\n",
      "Collecting opentelemetry-proto==1.24.0\n",
      "  Using cached opentelemetry_proto-1.24.0-py3-none-any.whl (50 kB)\n",
      "Collecting opentelemetry-instrumentation-asgi==0.45b0\n",
      "  Using cached opentelemetry_instrumentation_asgi-0.45b0-py3-none-any.whl (14 kB)\n",
      "Collecting opentelemetry-instrumentation==0.45b0\n",
      "  Using cached opentelemetry_instrumentation-0.45b0-py3-none-any.whl (28 kB)\n",
      "Collecting opentelemetry-semantic-conventions==0.45b0\n",
      "  Using cached opentelemetry_semantic_conventions-0.45b0-py3-none-any.whl (36 kB)\n",
      "Collecting opentelemetry-util-http==0.45b0\n",
      "  Using cached opentelemetry_util_http-0.45b0-py3-none-any.whl (6.9 kB)\n",
      "Requirement already satisfied: setuptools>=16.0 in c:\\harsh\\sem 6\\ai internship\\setup\\myenv\\lib\\site-packages (from opentelemetry-instrumentation==0.45b0->opentelemetry-instrumentation-fastapi>=0.41b0->chromadb) (65.5.0)\n",
      "Collecting wrapt<2.0.0,>=1.0.0\n",
      "  Downloading wrapt-1.16.0-cp311-cp311-win_amd64.whl (37 kB)\n",
      "Collecting asgiref~=3.0\n",
      "  Downloading asgiref-3.8.1-py3-none-any.whl (23 kB)\n",
      "Collecting monotonic>=1.5\n",
      "  Using cached monotonic-1.6-py2.py3-none-any.whl (8.2 kB)\n",
      "Collecting backoff>=1.10.0\n",
      "  Using cached backoff-2.2.1-py3-none-any.whl (15 kB)\n",
      "Requirement already satisfied: annotated-types>=0.4.0 in c:\\harsh\\sem 6\\ai internship\\setup\\myenv\\lib\\site-packages (from pydantic>=1.9->chromadb) (0.7.0)\n",
      "Requirement already satisfied: pydantic-core==2.18.3 in c:\\harsh\\sem 6\\ai internship\\setup\\myenv\\lib\\site-packages (from pydantic>=1.9->chromadb) (2.18.3)\n",
      "Requirement already satisfied: charset-normalizer<4,>=2 in c:\\harsh\\sem 6\\ai internship\\setup\\myenv\\lib\\site-packages (from requests>=2.28->chromadb) (3.3.2)\n",
      "Requirement already satisfied: idna<4,>=2.5 in c:\\harsh\\sem 6\\ai internship\\setup\\myenv\\lib\\site-packages (from requests>=2.28->chromadb) (3.7)\n",
      "Collecting huggingface-hub<1.0,>=0.16.4\n",
      "  Downloading huggingface_hub-0.23.2-py3-none-any.whl (401 kB)\n",
      "     -------------------------------------- 401.7/401.7 kB 8.3 MB/s eta 0:00:00\n",
      "Requirement already satisfied: click>=8.0.0 in c:\\harsh\\sem 6\\ai internship\\setup\\myenv\\lib\\site-packages (from typer>=0.9.0->chromadb) (8.1.7)\n",
      "Collecting shellingham>=1.3.0\n",
      "  Using cached shellingham-1.5.4-py2.py3-none-any.whl (9.8 kB)\n",
      "Requirement already satisfied: rich>=10.11.0 in c:\\harsh\\sem 6\\ai internship\\setup\\myenv\\lib\\site-packages (from typer>=0.9.0->chromadb) (13.7.1)\n",
      "Collecting h11>=0.8\n",
      "  Using cached h11-0.14.0-py3-none-any.whl (58 kB)\n",
      "Collecting httptools>=0.5.0\n",
      "  Using cached httptools-0.6.1-cp311-cp311-win_amd64.whl (55 kB)\n",
      "Collecting python-dotenv>=0.13\n",
      "  Downloading python_dotenv-1.0.1-py3-none-any.whl (19 kB)\n",
      "Collecting watchfiles>=0.13\n",
      "  Downloading watchfiles-0.22.0-cp311-none-win_amd64.whl (281 kB)\n",
      "     -------------------------------------- 282.0/282.0 kB 8.5 MB/s eta 0:00:00\n",
      "Collecting websockets>=10.4\n",
      "  Downloading websockets-12.0-cp311-cp311-win_amd64.whl (124 kB)\n",
      "     -------------------------------------- 125.0/125.0 kB 7.2 MB/s eta 0:00:00\n",
      "Collecting dnspython>=2.0.0\n",
      "  Downloading dnspython-2.6.1-py3-none-any.whl (307 kB)\n",
      "     -------------------------------------- 307.7/307.7 kB 6.5 MB/s eta 0:00:00\n",
      "Requirement already satisfied: cachetools<6.0,>=2.0.0 in c:\\harsh\\sem 6\\ai internship\\setup\\myenv\\lib\\site-packages (from google-auth>=1.0.1->kubernetes>=28.1.0->chromadb) (5.3.3)\n",
      "Requirement already satisfied: pyasn1-modules>=0.2.1 in c:\\harsh\\sem 6\\ai internship\\setup\\myenv\\lib\\site-packages (from google-auth>=1.0.1->kubernetes>=28.1.0->chromadb) (0.4.0)\n",
      "Requirement already satisfied: rsa<5,>=3.1.4 in c:\\harsh\\sem 6\\ai internship\\setup\\myenv\\lib\\site-packages (from google-auth>=1.0.1->kubernetes>=28.1.0->chromadb) (4.9)\n",
      "Collecting anyio\n",
      "  Downloading anyio-4.4.0-py3-none-any.whl (86 kB)\n",
      "     ---------------------------------------- 86.8/86.8 kB 4.8 MB/s eta 0:00:00\n",
      "Collecting httpcore==1.*\n",
      "  Downloading httpcore-1.0.5-py3-none-any.whl (77 kB)\n",
      "     ---------------------------------------- 77.9/77.9 kB 4.2 MB/s eta 0:00:00\n",
      "Collecting sniffio\n",
      "  Downloading sniffio-1.3.1-py3-none-any.whl (10 kB)\n",
      "Collecting filelock\n",
      "  Downloading filelock-3.14.0-py3-none-any.whl (12 kB)\n",
      "Collecting fsspec>=2023.5.0\n",
      "  Downloading fsspec-2024.5.0-py3-none-any.whl (316 kB)\n",
      "     -------------------------------------- 316.1/316.1 kB 6.6 MB/s eta 0:00:00\n",
      "Requirement already satisfied: zipp>=0.5 in c:\\harsh\\sem 6\\ai internship\\setup\\myenv\\lib\\site-packages (from importlib-metadata<=7.0,>=6.0->opentelemetry-api>=1.2.0->chromadb) (3.19.0)\n",
      "Requirement already satisfied: MarkupSafe>=2.0 in c:\\harsh\\sem 6\\ai internship\\setup\\myenv\\lib\\site-packages (from jinja2>=2.11.2->fastapi>=0.95.2->chromadb) (2.1.5)\n",
      "Requirement already satisfied: markdown-it-py>=2.2.0 in c:\\harsh\\sem 6\\ai internship\\setup\\myenv\\lib\\site-packages (from rich>=10.11.0->typer>=0.9.0->chromadb) (3.0.0)\n",
      "Requirement already satisfied: pygments<3.0.0,>=2.13.0 in c:\\harsh\\sem 6\\ai internship\\setup\\myenv\\lib\\site-packages (from rich>=10.11.0->typer>=0.9.0->chromadb) (2.18.0)\n",
      "Collecting humanfriendly>=9.1\n",
      "  Using cached humanfriendly-10.0-py2.py3-none-any.whl (86 kB)\n",
      "Collecting mpmath<1.4.0,>=1.1.0\n",
      "  Using cached mpmath-1.3.0-py3-none-any.whl (536 kB)\n",
      "Collecting pyreadline3\n",
      "  Using cached pyreadline3-3.4.1-py3-none-any.whl (95 kB)\n",
      "Requirement already satisfied: mdurl~=0.1 in c:\\harsh\\sem 6\\ai internship\\setup\\myenv\\lib\\site-packages (from markdown-it-py>=2.2.0->rich>=10.11.0->typer>=0.9.0->chromadb) (0.1.2)\n",
      "Requirement already satisfied: pyasn1<0.7.0,>=0.4.6 in c:\\harsh\\sem 6\\ai internship\\setup\\myenv\\lib\\site-packages (from pyasn1-modules>=0.2.1->google-auth>=1.0.1->kubernetes>=28.1.0->chromadb) (0.6.0)\n",
      "Building wheels for collected packages: pypika\n",
      "  Building wheel for pypika (pyproject.toml): started\n",
      "  Building wheel for pypika (pyproject.toml): finished with status 'done'\n",
      "  Created wheel for pypika: filename=PyPika-0.48.9-py2.py3-none-any.whl size=53835 sha256=6afb4262e0a9200426f7c2d636b0718e8ef172f5179df3f8b50fbb1b44f1ffec\n",
      "  Stored in directory: c:\\users\\pimpa\\appdata\\local\\pip\\cache\\wheels\\da\\b1\\64\\178bd739d19ac4e7b567619cde8454c523f972963ced4d48c4\n",
      "Successfully built pypika\n",
      "Installing collected packages: pyreadline3, pypika, mpmath, monotonic, mmh3, flatbuffers, wrapt, websockets, websocket-client, ujson, sympy, sniffio, shellingham, python-multipart, python-dotenv, pyproject_hooks, overrides, opentelemetry-util-http, opentelemetry-semantic-conventions, opentelemetry-proto, oauthlib, importlib-resources, humanfriendly, httptools, h11, fsspec, filelock, dnspython, chroma-hnswlib, bcrypt, backoff, asgiref, uvicorn, requests-oauthlib, posthog, opentelemetry-exporter-otlp-proto-common, huggingface-hub, httpcore, email_validator, deprecated, coloredlogs, build, anyio, watchfiles, typer, tokenizers, starlette, opentelemetry-api, onnxruntime, kubernetes, httpx, opentelemetry-sdk, opentelemetry-instrumentation, fastapi-cli, opentelemetry-instrumentation-asgi, opentelemetry-exporter-otlp-proto-grpc, fastapi, opentelemetry-instrumentation-fastapi, chromadb\n",
      "Successfully installed anyio-4.4.0 asgiref-3.8.1 backoff-2.2.1 bcrypt-4.1.3 build-1.2.1 chroma-hnswlib-0.7.3 chromadb-0.5.0 coloredlogs-15.0.1 deprecated-1.2.14 dnspython-2.6.1 email_validator-2.1.1 fastapi-0.111.0 fastapi-cli-0.0.4 filelock-3.14.0 flatbuffers-24.3.25 fsspec-2024.5.0 h11-0.14.0 httpcore-1.0.5 httptools-0.6.1 httpx-0.27.0 huggingface-hub-0.23.2 humanfriendly-10.0 importlib-resources-6.4.0 kubernetes-29.0.0 mmh3-4.1.0 monotonic-1.6 mpmath-1.3.0 oauthlib-3.2.2 onnxruntime-1.18.0 opentelemetry-api-1.24.0 opentelemetry-exporter-otlp-proto-common-1.24.0 opentelemetry-exporter-otlp-proto-grpc-1.24.0 opentelemetry-instrumentation-0.45b0 opentelemetry-instrumentation-asgi-0.45b0 opentelemetry-instrumentation-fastapi-0.45b0 opentelemetry-proto-1.24.0 opentelemetry-sdk-1.24.0 opentelemetry-semantic-conventions-0.45b0 opentelemetry-util-http-0.45b0 overrides-7.7.0 posthog-3.5.0 pypika-0.48.9 pyproject_hooks-1.1.0 pyreadline3-3.4.1 python-dotenv-1.0.1 python-multipart-0.0.9 requests-oauthlib-2.0.0 shellingham-1.5.4 sniffio-1.3.1 starlette-0.37.2 sympy-1.12.1 tokenizers-0.19.1 typer-0.12.3 ujson-5.10.0 uvicorn-0.30.0 watchfiles-0.22.0 websocket-client-1.8.0 websockets-12.0 wrapt-1.16.0\n"
     ]
    },
    {
     "name": "stderr",
     "output_type": "stream",
     "text": [
      "\n",
      "[notice] A new release of pip available: 22.3.1 -> 24.0\n",
      "[notice] To update, run: python.exe -m pip install --upgrade pip\n"
     ]
    }
   ],
   "source": [
    "!pip install pandas chromadb"
   ]
  },
  {
   "cell_type": "code",
   "execution_count": 7,
   "metadata": {},
   "outputs": [
    {
     "name": "stdout",
     "output_type": "stream",
     "text": [
      "[Document(page_content='This article is about the Star Wars character. For the rapper Luke Skyywalker, see Uncle Luke. For the Skulduggery Pleasant character, see Luke Skywalker\\n(Skulduggery Pleasant).\\nLuke Skywalker is a character in the Star Wars franchise created by George Lucas. He is the protagonist of the original film trilogy, and also appears in the\\nsequel trilogy. Raised as a farmer on the fictional planet Tatooine, Luke joins the Rebel Alliance and becomes a pivotal figure in the struggle against the\\nGalactic Empire. He trains as a Jedi under Obi-Wan Kenobi and Yoda, and eventually confronts his father, the Sith Lord Darth Vader. Years later, Luke trains\\nhis nephew Ben Solo and mentors the scavenger Rey. Luke is the twin brother of Leia Organa Solo.\\nThe character is portrayed by Mark Hamill in all six films and in the series The Mandalorian and The Book of Boba Fett. Luke also appears in animated series,\\nnovels, comics, and video games.\\nCreation and development :\\nGeorge Lucas considered various characterizations for the protagonist of the original Star Wars film.[b] The possibilities included a 60-year-old grizzled war\\nhero, a Jedi Master, a dwarf, and a woman.[1][2] Luke\\'s original surname was \"Starkiller\", and it remained in the script until a few months into filming. It was\\ndropped due to what Lucas called \"unpleasant connotations\" with Charles Manson, who became a \"star killer\" in 1969 when he murdered the well-known\\nactress Sharon Tate.[3][4] Lucas replaced the problematic name \"Starkiller\" with \"Skywalker\".[5]\\nHamill was injured in a car crash in January 1977, fracturing his nose and cheekbone.[6] Lucas justified the slight change to Hamill\\'s likeness this would impose\\nupon the sequel film, The Empire Strikes Back (1980), by asserting that in the interim between the two films, Luke had been fighting for the Rebel Alliance. It\\nwas speculated that the Wampa attack at the beginning of The Empire Strikes Back was written in to explain his facial injuries, but George Lucas specifically\\ndisputed this in the DVD commentary of the film.[7]\\nAppearances in Films\\nA New Hope (1977)\\nMain article: Star Wars (film)\\nIn a deleted scene preceding the character\\'s first appearance in the film (preserved in the film\\'s radio dramatization),[8] Luke says goodbye to his best friend\\nBiggs Darklighter, who has just joined the Imperial Academy.[9]\\nIn the original 1977 film (later having the extended title, A New Hope), Luke lives at a moisture farm on the desert planet of Tatooine with his uncle Owen and\\naunt Beru. Luke takes his first steps toward his destiny when he purchases the droids C-3PO and R2-D2. While examining R2-D2, he sees a message from\\nPrincess Leia Organa of Alderaan. When R2-D2 goes missing, Luke goes out to search for the droid, and is saved from a band of Tusken Raiders by Obi-Wan\\nKenobi, an old hermit. Luke and Obi-Wan retreat to the latter\\'s home, and R2-D2 plays the full message for Obi-Wan from Leia, beseeching him to help her\\ndefeat the Galactic Empire. Obi-Wan says that he and Luke\\'s father were once Jedi Knights, and that his father was murdered by a traitorous Jedi named Darth\\nVader. Obi-Wan presents Luke with his father\\'s lightsaber and offers to take him to Alderaan and train him in the ways of the Force, but Luke declines his offer,\\nfeeling obligated to his family\\'s farm.Luke changes his mind when he returns home to find out that Imperial stormtroopers have raided the moisture farm, killing his aunt and uncle. He and Obi-Wan\\nthen travel to Mos Eisley, where they meet smugglers Han Solo and Chewbacca at a cantina. They team up and travel on the Millennium Falcon to Alderaan,\\nonly to find out that it has been destroyed by the Death Star, the Empire\\'s battle station. The Falcon is brought into the Death Star\\'s hangar bay via tractor beam,\\nwhere Luke and Han disguise themselves as stormtroopers and infiltrate the station. When they discover Princess Leia is there, Luke persuades a reluctant Han\\nand Chewbacca to help rescue her. Obi-Wan deactivates the tractor beam, and he later sacrifices his life in a duel with Vader, so that Luke and his friends can\\nboard the Falcon and escape.\\nDuring the Battle of Yavin, Luke joins the Rebel Alliance in attacking the Death Star. In the trench leading to the Death Star\\'s exhaust port, Luke hears Obi-\\nWan\\'s voice, telling him to \"trust his feelings\"; he takes Obi-Wan\\'s advice and switches off his X-wing\\'s missile guidance system, instead using the Force to\\nguide the missiles and destroy the Death Star. In the film\\'s final scene, he joins Han and Chewbacca in receiving a medal of honor for his heroism.\\nThe Empire Strikes Back (1980)\\nMark Hamill in 1980\\nMain article: The Empire Strikes Back\\nThree years after the destruction of the Death Star, Luke is now the commander of the Rebel Alliance\\'s Rogue Squadron.[10] While on a mission on the ice\\nplanet Hoth, he is captured by a wampa, but manages to escape using his lightsaber. In the frozen wasteland, he sees Obi-Wan\\'s Force spirit, who tells him to\\ntravel to the planet Dagobah and complete his training with the Jedi Master Yoda. Luke collapses but is later rescued by Han. When the Empire discovers the\\nRebel base on Hoth, Luke leads his squadron of snowspeeders to battle the enemy\\'s AT-ATs, but he is forced to retreat when his wingmen are overwhelmed.\\nEscaping in his X-wing, he travels to Dagobah and meets Yoda. He undergoes rigorous Jedi training, quickly increasing his power in the Force.\\nDuring his training, Luke sees a vision of his friends in danger. Against both Obi-Wan and Yoda\\'s advice to stay and complete his training, he travels to Bespin\\nto save them, unwittingly falling into a trap set by Vader. He engages in a lightsaber duel with Vader. As his mentors warned, Luke proves to be no match for\\nVader; the Sith Lord easily overpowers Luke and severs his right hand. Vader then reveals that he is Luke\\'s father, and offers him the chance to turn to the dark\\nside of the Force and rule the galaxy at his side. Resolving that he would rather die than become an agent of evil, Luke throws himself into a deep reactor chasm.\\nHe survives, but is pulled into a garbage chute to the underside of Cloud City, and left hanging perilously onto a vane rod. Leia, flying away from Cloud City in\\nthe Millennium Falcon, senses Luke\\'s call out to her with the Force, and turns the ship around to save him. Aboard the ship, he hears Vader telepathically telling\\nhim that it is his destiny to join the dark side. Luke\\'s severed hand is replaced with a bio-mechanical one.\\nReturn of the Jedi (1983)\\nMain article: Return of the Jedi\\nOne year later, Luke is a Jedi Knight,[11] and has constructed his own lightsaber.[c] He returns to Tatooine with Leia, Chewbacca, the droids, and Lando\\nCalrissian to save Han, frozen in carbonite, from the crime lord Jabba the Hutt. Luke offers to negotiate with Jabba, who rejects his offer and casts him into a pit\\nto battle a rancor. When Luke kills the rancor, he, Han, and Chewbacca are sentenced to death in the sarlacc pit. Luke escapes with R2-D2\\'s help, saving his\\nfriends and destroying Jabba\\'s sail barge.Luke returns to Dagobah, and learns from a dying Yoda that Vader is indeed his father. Luke then learns from Obi-Wan\\'s spirit that he has a twin sister, whom\\nhe immediately realizes is princess Leia. Both Jedi Masters tell Luke that he must face Vader again to finish his training and save the galaxy, but he is disturbed\\nby the idea of killing his own father.\\nArriving on Endor as part of a Rebel commando squad, Luke surrenders to Vader in an attempt to bring his father back from the dark side of the Force. Vader\\nbrings Luke to the second Death Star orbiting around Endor, where his master, Emperor Palpatine, tries to tempt Luke to the dark side, revealing his plan to\\ndestroy the Rebel fleet. Luke lashes out at the Emperor with his lightsaber, but Vader blocks his strike, and father and son once again duel with each other. Luke\\nregains control of his emotions until Vader senses that Luke has a sister, and threatens to turn her to the dark side if Luke will not submit. Luke snaps and\\noverpowers Vader, severing his father\\'s mechanical right hand. The Emperor orders Luke to kill Vader and take his place. Luke looks at his own bionic hand and\\nrealizes that he is on the verge of suffering his father\\'s fate. He casts his lightsaber aside, declaring himself a Jedi.\\nFurious, the Emperor tortures Luke with Force lightning. In agony, Luke calls out to his father for help; unwilling to let his son die, Vader throws the Emperor\\ndown a reactor shaft to his death, but is mortally wounded by the Emperor\\'s Force lightning in the process. As Rebel fighters head toward the second Death\\nStar\\'s main reactor, Luke removes Vader\\'s mask and looks upon his father\\'s real face for the first and last time. The redeemed Anakin Skywalker reassures Luke\\nthat there was good in him after all, and to tell his sister that he was right about him, before dying peacefully. On Endor, Luke burns his father\\'s body on a\\nfuneral pyre, giving him a proper Jedi funeral. During the Rebels\\' victory celebrations on Endor, Luke sees his father\\'s spirit appear alongside those of Obi-Wan\\nand Yoda.\\nPrequel trilogy\\nMain article: Star Wars prequel trilogy\\nRevenge of the Sith (2005)\\nIn the prequel film Revenge of the Sith (2005), during the waning days of the Clone Wars between the Galactic Republic and the Separatists, Senator Padmé\\nAmidala, wife of Jedi Knight Anakin Skywalker, becomes pregnant with Luke and Leia. Anakin has a prophetic vision of Padmé dying in childbirth, and allows\\nChancellor Palpatine – secretly the Sith Lord Darth Sidious – to corrupt him to the dark side as Darth Vader.\\nAfter Vader uses the dark side to choke her, Padmé is taken to Polis Massa, where she gives birth to Luke and Leia and dies, having lost the will to live after\\nVader\\'s betrayal. Obi-Wan and Yoda agree to separate the twins in order to protect them from the Sith and the newly created Galactic Empire. Obi-Wan takes\\nLuke to the desert planet Tatooine, where he is adopted by Vader\\'s stepbrother, Owen Lars, and his wife, Beru, while Leia is adopted by Senator Bail Organa of\\nAlderaan. The infant Luke is portrayed by Aidan Barton, the son of Roger Barton, an editor of the film.[13]\\nSequel trilogy\\nMain article: Star Wars sequel trilogy\\nThe Force Awakens (2015)\\nMark Hamill reprised the role of Luke in The Force Awakens (2015)\\nIn the first installment of the sequel trilogy, The Force Awakens (2015), the opening crawl reveals that Luke Skywalker had mysteriously vanished some time in\\nthe 30 years after the destruction of the second Death Star. Luke went into hiding after his nephew and apprentice, Ben Solo, turned to the dark side and becameKylo Ren, a warlord of the tyrannical First Order and its leader, Snoke. When Ren killed all of his fellow apprentices and ushered in the fall of the New\\nRepublic, Luke felt responsible, and disappeared. At the end of the film, the Resistance, led by Leia, manage to reconstruct a map, which traces the location of\\nthe temple from the Empire\\'s archives to his location, and he is subsequently found on the planet Ahch-To by the young scavenger, Rey, who presents him with\\nthe lightsaber previously wielded by both Luke and his father.\\nThe Last Jedi (2017)\\nIn The Last Jedi (2017), Luke throws the lightsaber away after Rey gives it to him. He then seals himself in his home, refusing to talk to Rey. However, when he\\nsees Chewbacca without Han and that Rey came on the Millennium Falcon, he inquires about what has gone on with his family. Rey informs Luke about Solo\\'s\\ndeath at the hands of Kylo Ren and that the First Order has risen to rule the galaxy. Rey asks Luke to train her in the ways of the Force. Luke is initially reluctant\\nto train Rey, telling her that it is time for the Jedi Order to end.\\nAfter some persuasion from R2-D2, however, Luke starts training Rey, but grows increasingly afraid of her power. Luke then tells Rey the history of the Jedi\\nOrder, how Darth Sidious rose to power and how the Jedi were partly responsible for his father\\'s fall to the dark side. Luke also initially tells Rey that Ben was\\ncorrupted by Snoke, and destroyed the Jedi Temple he confronted his treasonous nephew. Ultimately, however, Luke tells Rey the truth: He had briefly\\nconsidered killing the sleeping Ben after seeing a vision of the destruction he could cause, but immediately relented; Ben woke to see Luke with his lightsaber\\ndrawn and turned to the dark side because he felt betrayed. Upon learning this, Rey urges Luke to help her redeem Ben, but he refuses to participate in this nor\\nhelp the Resistance. When Rey leaves, an embittered Luke tries to burn the Jedi temple, but fails. He is then visited by the spirit of Yoda, who assures Luke that\\nhe still has a purpose.\\nLuke appears on the planet Crait, as the Resistance are staging a standoff against the First Order, and he apologizes to Leia for allowing Ben to fall to the dark\\nside. Luke steps in front of the First Order walkers, and unexpectedly survives an onslaught of blaster fire ordered by Ren. Ren charges at Luke in hand-to-hand\\ncombat, seemingly bisecting him with his lightsaber, but Luke remains unscathed; still on Ahch-To, Luke has sent a projection of himself to Crait, using the\\nForce. This distraction allows the Resistance to escape the planet. Luke tells Kylo that he will not be the last Jedi before his projection disappears. On Ahch-To,\\nLuke collapses then looks off in the horizon to see the planet\\'s two suns setting before he becomes one with the Force and vanishes.\\nThe Rise of Skywalker (2019)\\nLuke appears briefly in The Rise of Skywalker, the ninth and final chapter of the main series.[14] When Rey discovers her lineage as the resurrected Emperor\\nPalpatine\\'s granddaughter, she exiles herself on Ahch-To, just as Luke had. Meaning to isolate herself, she throws Luke\\'s lightsaber towards the burning\\nwreckage of Ren\\'s TIE whisper, in which she had traveled to her new home. Luke appears as a Force spirit, and reprimands Rey for treating the lightsaber with\\ndisrespect. Luke then admits that he was wrong not to participate in the Resistance, and thanks Rey for helping him rediscover himself. Luke convinces Rey to\\nnot view herself as a Palpatine, but as the good person Leia saw her as when training her, and not to give up on her battle against the Sith. Luke lends Rey his\\nold T-65B X-wing Red Five and tells Rey to combine his father\\'s lightsaber with Leia\\'s in her battle on Exegol. He also restrengthened Rey when she reached\\nout to and heard the voices of the past Jedi to help her destroy Palpatine once and for all.\\nAfter Rey vanquishes Palpatine once and for all, she visits the moisture farm on Tatooine where Luke was raised. She buries Luke and Leia\\'s lightsabers,\\nrevealing that she has constructed her own. A local asks Rey who she is. As Leia, who died earlier, and Luke appear as Force spirits, Rey names herself ReySkywalker.\\nTelevision series\\nLuke appears in the animated Disney micro-series Star Wars Forces of Destiny (with Hamill reprising his role). The episode \"The Path Ahead\" details him\\ntraining with Yoda on Dagobah.[15] He also appears in the episode \"Traps and Tribulations\", which takes place shortly after the Battle of Endor and shows him\\nand Leia assisting the Ewoks in stopping a rampaging monster known as a Gorax.[16]\\nLuke appears in \"Chapter 16: The Rescue\", the season two finale of The Mandalorian, after Grogu contacted him via the Force in a previous episode. Luke\\narrives on Moff Gideon\\'s cruiser and destroys all of the Dark Troopers, saving Grogu and his guardian, Din Djarin, as well as their companions. Luke then takes\\nGrogu with him to train him as a Jedi, with Djarin\\'s permission.[17]\\nLuke appears in the sixth episode, \"Chapter 6: From the Desert Comes a Stranger\", of the spin-off series The Book of Boba Fett. While training Grogu, he helps\\nhim remember some of his past, including his home at the Jedi Temple on Coruscant and the events of the Great Jedi Purge. Djarin comes to visit Grogu, but\\ndecides against it after speaking with Ahsoka Tano, not wanting to hinder his training; however, he gives Ahsoka a gift to deliver to Grogu: beskar chain mail\\nforged by the Armorer. Ahsoka gives the chain mail to Luke, who confesses that he is unsure whether Grogu is fully committed to the Jedi path and that he does\\nnot know how to handle the matter. Following Ahsoka\\'s advice to listen to his instincts, Luke decides to let Grogu choose his own destiny by asking him to\\nchoose between the chain mail and the lightsaber of his old master, Yoda.[18] In the seventh episode, \"Chapter 7: In The Name of Honour\", it is revealed that\\nGrogu chose the chain mail, leading Luke to send him back to Djarin. He places him in his X-wing starfighter, which is then flown to Tatooine by R2-D2, where\\nGrogu and Djarin are eventually reunited.[19]\\nLiterature\\nLuke is the main character of the novel Heir to the Jedi and the junior novel The Legends of Luke Skywalker (the latter of which was adapted as a manga).[20]\\nHe is also a main character of the 2015 comic Star Wars, which takes place between the films of the original trilogy.[21]\\nStar Wars: Heir to the Jedi was announced as one of the first four canon novels to be released in 2014 and 2015.[22] Set between A New Hope and The Empire\\nStrikes Back, Heir to the Jedi chronicles the adventures of Luke as he continues to battle the Empire with his Rebel friends,[23] grows close with fellow Rebel\\nNakari Kelen, and begins to develop his Force abilities. The novel is written from the first-person perspective of Luke, and is only the second Star Wars novel to\\nattempt this type of narrative voice.[d][23]\\nStar Wars: Shadow of the Sith is a novel set between Return of the Jedi and The Force Awakens. The book follows Luke and Lando Calrissian on a mission to\\nlocate Exegol.[24]\\nLegends\\nSee also: Star Wars expanded to other media\\nIn April 2014, most of the licensed Star Wars novels and comics produced since the originating 1977 film Star Wars were rebranded by Lucasfilm as Star Wars\\nLegends and declared non-canon to the franchise.[25][26][22] The Legends-branded novels, comic books and video games detail Luke\\'s exploits following\\nReturn of the Jedi.[27]Novels\\nIn the novel The Truce at Bakura, set one day after the battle of Endor, Luke and his friend Wedge Antilles recover a message droid from the titular planet,\\nwhich was being invaded by the Ssi-Ruuk. Luke commands a task force, turning back the enemy army. He also meets Dev Sibwarra, a Force-sensitive human\\nwho had been captured by the Ssi-Ruuk, who is killed in the battle after turning against his captors.[28]\\nIn the novel The Courtship of Princess Leia, set four years after the Battle of Endor, Luke travels to the planet Dathomir. There, he discovers a group of Force-\\nsensitive witches called the Witches of Dathomir, banded into two separate groups: a collective of benign, matriarchal clans; the one he is in contact with being\\nthe Singing Mountain Clan, and the witches who have turned to the dark side, called the Nightsisters. Discovering a prophecy in which it was told a Jedi would\\nchange the way of life on the land, Luke eventually realizes truly what the Force is for the first time in his life. While there, he destroys most of the Nightsisters\\n(including their powerful leader, Gethzirion, and the galaxy\\'s most powerful remaining warlord, Warlord Zsinj). Thanks to the help of the prophecy and witches,\\nLuke recovers old Jedi records left by Yoda about 400 years prior. He decides to start a new Jedi Academy, something he has been trying to do for six months\\nbefore the start of the novel by finding old Jedi records and archives.[29]\\nIn the Thrawn trilogy, Luke meets former Emperor\\'s Hand Mara Jade, who is bound by Palpatine\\'s disembodied voice that repeatedly commands \"You will kill\\nLuke Skywalker\". Mara Jade is working with her boss, a fringe-of-the-galaxy smuggler named Talon Karrde, who also plays a crucial role in this era. Although\\nshe was ready to fulfill that order to stop the voice, circumstances force her to keep him alive long enough to have him help escape a mutual danger. Despite her\\nthreats, Luke learns of the spell Mara is under and vows to free her from it. Meanwhile, the rest of the New Republic is fighting against Grand Admiral Thrawn,\\nand thanks to Leia\\'s help, he is eventually defeated, although several times Luke had to avoid getting captured by Thrawn or seduced by his ally, Joruus C\\'baoth.\\nEventually, he and Jade fight against Luke\\'s clone, Luuke Skywalker, C\\'baoth\\'s creation. During the fight, Mara Jade destroys the clone and, with Leia\\'s help,\\ndestroys C\\'baoth. This entire time, C\\'baoth has been obsessed with \"molding\" Luke and Mara to serve him, perhaps due to the fact that the Spaarti cloning\\ncylinders he was made from have a reputation of turning people insane later in life. Nonetheless, C\\'baoth is defeated by Mara along with Luuke, and Mara\\'s acts\\nsilences her curse and completes her reconciliation with the Jedi, whom she later joins.[30]\\nIn the Jedi Academy trilogy, Luke resigns his commission in the New Republic\\'s starfighter corps to pursue his Jedi studies and rebuild the Jedi Order in the\\nMassassi Temple on Yavin 4, a decision some anti-Jedi politicians use against him. Luke becomes the New Jedi Order\\'s leader. His students in the ways of the\\nForce include; Gantoris, Kam Solusar, Tionne, Streen, Cilghal, Kirana Ti and others. He is forced to contend with the spirit of ancient Sith Lord Exar Kun, who\\nlures one of his most powerful students, Kyp Durron, to the dark side.\\nIn the Hand of Thrawn Duology, Luke, now a Jedi Master, works again with Mara Jade, who has learned to better her Force knowledge since her training at\\nLuke\\'s Jedi Academy. He falls in love with her and they eventually marry. Later, in Edge of Victory: Rebirth, they have a son whom they name Ben, after Obi-\\nWan Kenobi\\'s pseudonym.\\nIn the New Jedi Order series, Luke creates a New Jedi Council. He idealises a new conclave, made up of Jedi, politicians and military officers. In Force Heretic:\\nRemnant, he spearheads the mission into the Unknown Regions during the Yuuzhan Vong invasion to find the mysterious planet of Zonama Sekot, a planet that\\ncreates living starships. After the invasion is defeated with the help of the new Mandalorian Warriors, a Sekotian fleet and a Galactic Alliance-Imperial Remnant\\nfleet, Luke leads the New Jedi Order on Denon, the temporary capital of the Galactic Alliance and the site of the newly rebuilt Jedi Temple on Coruscant. In TheSwarm War, the New Jedi Order moves to Ossus, the site of Jedi temples and libraries that were mostly destroyed 4,000 years prior. Upon the Killik\\'s invasion\\nof Chiss space and the transformation of most of the Myrkr mission survivors into Killik Joiners, Luke determines that the Killik\\'s collective mind is being\\nunconsciously controlled by a hive called the Dark Nest. The Dark Nest is controlled by a former Nightsister named Lomi Plo, who became their Unseen Queen\\nwith her ability to become invisible by exploiting the doubts of inferiors.\\nOne of the Myrkr mission survivors, Alema Rar, attempts to plant seeds of doubt in Luke\\'s mind by suggesting that his wife, Mara, may be somehow\\nresponsible for the death of his mother, Padmé Amidala, which he almost believes because of Mara\\'s previous role as the Emperor\\'s Hand. This allows Lomi to\\nescape from Luke, who discovers recordings of his father Force-choking his mother on Mustafar, his own birth, and his mother\\'s death hidden inside R2-D2\\'s\\nmemory drive. Because of this, he is able to overcome his doubts about Mara and defeat Lomi Plo in the final battle of the Swarm War, cutting her into four\\npieces.\\nLuke creates a New Jedi Council, and becomes the Grand Master of the New Jedi Order. He tells the Jedi to either follow his leadership, make the order their\\npriority, or leave. Luke is also forced to exile the Padawans Tahiri, Lowbacca, and Tesar Sebatayne to Dagobah for divulging secret information to people\\noutside the order.\\nIn the Legacy of the Force series, Luke begins having visions of a figure cloaked in darkness destroying the galaxy and the Jedi. Luke is troubled that he has\\nbeen unable to discern the identity of this figure, who seems to be much like Darth Vader. Complicating matters even more is the recent schism that has\\ndeveloped between Luke and his nephew, Jacen Solo. Already a tremendously powerful Jedi Knight, Jacen has begun adopting radical interpretations of the\\nForce, causing a dramatic change in his personality. Luke fears that Jacen is pursuing the same path that ultimately led to Anakin Skywalker\\'s fall to the dark\\nside.\\nIn Bloodlines, the situation worsens when Luke\\'s son, Ben, becomes Jacen\\'s apprentice. Luke must also battle his wife, who refuses to confront Jacen for fear of\\nalienating Ben. In Tempest, Luke determines that the dark figure from his dreams is Lumiya, a former Emperor\\'s Hand now known as the \"Dark Lady of the\\nSith\". When Mara is murdered in Sacrifice, Lumiya deceives Luke into believing that she killed her. They battle again, and Luke saves a weaponless Lumiya\\nfrom falling to her death simply so that he can kill her himself. Luke returns to Coruscant where he is found by Ben, standing guard over Mara\\'s body; upon\\nspeaking with his son, he realizes that Lumiya could not have killed her. Later in his private cabin, Luke breaks down over the death of his wife, knowing that\\nher murderer is still at large. He does not realize that the killer is his own nephew, Jacen, who has now taken the Sith name Darth Caedus. In Revelation, Ben\\nproves that Jacen killed Mara, but Luke is now reluctant to kill Jacen out of fear that he or his son will fall to the dark side in the process. The decision is taken\\nout of his hands in Invincible, when Jaina kills Jacen in a final lightsaber duel.\\nIn Fate of the Jedi novels, set about 40 years after the first film, Luke Skywalker, now in his early sixties, is deposed by the government from his position as\\nGrand Master, and exiled from Coruscant. However, if he finds the reason of why Jacen Solo fell to the dark side, he can be allowed to return. Ben insists on\\ncoming with him. Together, father and son explore dangerous and little-known portions of the galaxy. Luke and Ben learn much about each other, about the\\nForce, and about the great dangers threatening the Jedi. The great love the two surviving Skywalkers have for each other grows even greater as they repeatedly\\nsave each other\\'s lives and explore the limits and powers and mysteries of the Force.Luke Skywalker and the Shadows of Mindor\\nLuke Skywalker and the Shadows of Mindor is a standalone novel that chronicles the Battle of Mindor, a fictional event in the Star Wars expanded universe.\\nThe novel was written by Matthew Stover and released in December 2008.[31]\\nThe novel is set shortly after Return of the Jedi and the novel Prophets of the Dark Side, with Luke Skywalker and the Rebel Alliance attempting to stop Lord\\nShadowspawn and his \"shadow stormtroopers\", culminating in the Battle of Mindor.[31] Matthew Stover has said on his personal weblog,[32]\\nComic books\\nLuke Skywalker appears in the Marvel-published Star Wars comics adaptations of the original trilogy, as well as an ongoing series that ran from 1977 to 1986.\\nWhen Dark Horse acquired the license two years later, he appeared in numerous projects based on the franchise as well. In Star Wars: Legacy, set 125 years\\nafter the events of the original films, Luke appears as a spirit in the Force to his descendant Cade Skywalker and persuades him to once again become a Jedi in\\norder to defeat the evil Darth Krayt and his burgeoning Sith Empire.\\nCharacterization\\nPsychoanalytic\\nEach of the Star Wars characters instantiates one of the archetypes in Joseph Campbell\\'s hero\\'s journey,[33] with Luke Skywalker filling the hero archetype.[34]\\nAs such, he is a relatable protagonist who encounters the basic struggle between good and evil in the same way as other heroic figures such as Harry Potter,\\nBilbo Baggins, and Jesus Christ. Luke\\'s central dilemma is the ongoing war between good and evil, both externally and internally.\\nReligious\\nSome argue that Luke mirrors fundamental values of Christianity and Abrahamic religion; Luke\\'s journey is often compared to that of Jesus Christ. Scholars\\nargue that Luke is a Christ-like figure, while Yoda represents a god, and Darth Vader represents the temptations of evil. Luke\\'s struggle between good and evil is\\ncontrasted with that of his father, Anakin Skywalker, in a way that represents the story of the Prodigal Son.[35]\\nReception\\nIn regards to Luke\\'s portrayal in The Last Jedi, many fans expressed disappointment in how he was depicted \"as a grumpy old man whose failures had driven\\nhim into hiding\" and the actions the character takes in contributing to Kylo Ren\\'s backstory, a stark departure in how Luke was characterized in the original\\ntrilogy.[36] Hamill originally stated that he \"pretty much fundamentally [disagreed] with every choice [The Last Jedi director Rian Johnson] made for this\\ncharacter,\" but that he had the utmost respect for Johnson and was willing to do his part to realize Johnson\\'s vision.[37]\\nSee also\\nSkywalker family\\nNotes\\n^ In addition to Mark Hamill, voice performers include Eric Bauza, Bob Bergen, Joshua Fardon and Lloyd Floyd.\\n^ The film was originally titled Star Wars, then later retitled Star Wars: Episode IV—A New Hope.\\n^ Phil Szostak notes that Luke\\'s lightsaber design reflects that of Obi-Wan Kenobi\\'s.[12]\\n^ The first was Michael A. Stackpole\\'s 1997 Expanded Universe novel, I, Jedi.')]\n",
      "{'input_documents': [Document(page_content='This article is about the Star Wars character. For the rapper Luke Skyywalker, see Uncle Luke. For the Skulduggery Pleasant character, see Luke Skywalker\\n(Skulduggery Pleasant).\\nLuke Skywalker is a character in the Star Wars franchise created by George Lucas. He is the protagonist of the original film trilogy, and also appears in the\\nsequel trilogy. Raised as a farmer on the fictional planet Tatooine, Luke joins the Rebel Alliance and becomes a pivotal figure in the struggle against the\\nGalactic Empire. He trains as a Jedi under Obi-Wan Kenobi and Yoda, and eventually confronts his father, the Sith Lord Darth Vader. Years later, Luke trains\\nhis nephew Ben Solo and mentors the scavenger Rey. Luke is the twin brother of Leia Organa Solo.\\nThe character is portrayed by Mark Hamill in all six films and in the series The Mandalorian and The Book of Boba Fett. Luke also appears in animated series,\\nnovels, comics, and video games.\\nCreation and development :\\nGeorge Lucas considered various characterizations for the protagonist of the original Star Wars film.[b] The possibilities included a 60-year-old grizzled war\\nhero, a Jedi Master, a dwarf, and a woman.[1][2] Luke\\'s original surname was \"Starkiller\", and it remained in the script until a few months into filming. It was\\ndropped due to what Lucas called \"unpleasant connotations\" with Charles Manson, who became a \"star killer\" in 1969 when he murdered the well-known\\nactress Sharon Tate.[3][4] Lucas replaced the problematic name \"Starkiller\" with \"Skywalker\".[5]\\nHamill was injured in a car crash in January 1977, fracturing his nose and cheekbone.[6] Lucas justified the slight change to Hamill\\'s likeness this would impose\\nupon the sequel film, The Empire Strikes Back (1980), by asserting that in the interim between the two films, Luke had been fighting for the Rebel Alliance. It\\nwas speculated that the Wampa attack at the beginning of The Empire Strikes Back was written in to explain his facial injuries, but George Lucas specifically\\ndisputed this in the DVD commentary of the film.[7]\\nAppearances in Films\\nA New Hope (1977)\\nMain article: Star Wars (film)\\nIn a deleted scene preceding the character\\'s first appearance in the film (preserved in the film\\'s radio dramatization),[8] Luke says goodbye to his best friend\\nBiggs Darklighter, who has just joined the Imperial Academy.[9]\\nIn the original 1977 film (later having the extended title, A New Hope), Luke lives at a moisture farm on the desert planet of Tatooine with his uncle Owen and\\naunt Beru. Luke takes his first steps toward his destiny when he purchases the droids C-3PO and R2-D2. While examining R2-D2, he sees a message from\\nPrincess Leia Organa of Alderaan. When R2-D2 goes missing, Luke goes out to search for the droid, and is saved from a band of Tusken Raiders by Obi-Wan\\nKenobi, an old hermit. Luke and Obi-Wan retreat to the latter\\'s home, and R2-D2 plays the full message for Obi-Wan from Leia, beseeching him to help her\\ndefeat the Galactic Empire. Obi-Wan says that he and Luke\\'s father were once Jedi Knights, and that his father was murdered by a traitorous Jedi named Darth\\nVader. Obi-Wan presents Luke with his father\\'s lightsaber and offers to take him to Alderaan and train him in the ways of the Force, but Luke declines his offer,\\nfeeling obligated to his family\\'s farm.Luke changes his mind when he returns home to find out that Imperial stormtroopers have raided the moisture farm, killing his aunt and uncle. He and Obi-Wan\\nthen travel to Mos Eisley, where they meet smugglers Han Solo and Chewbacca at a cantina. They team up and travel on the Millennium Falcon to Alderaan,\\nonly to find out that it has been destroyed by the Death Star, the Empire\\'s battle station. The Falcon is brought into the Death Star\\'s hangar bay via tractor beam,\\nwhere Luke and Han disguise themselves as stormtroopers and infiltrate the station. When they discover Princess Leia is there, Luke persuades a reluctant Han\\nand Chewbacca to help rescue her. Obi-Wan deactivates the tractor beam, and he later sacrifices his life in a duel with Vader, so that Luke and his friends can\\nboard the Falcon and escape.\\nDuring the Battle of Yavin, Luke joins the Rebel Alliance in attacking the Death Star. In the trench leading to the Death Star\\'s exhaust port, Luke hears Obi-\\nWan\\'s voice, telling him to \"trust his feelings\"; he takes Obi-Wan\\'s advice and switches off his X-wing\\'s missile guidance system, instead using the Force to\\nguide the missiles and destroy the Death Star. In the film\\'s final scene, he joins Han and Chewbacca in receiving a medal of honor for his heroism.\\nThe Empire Strikes Back (1980)\\nMark Hamill in 1980\\nMain article: The Empire Strikes Back\\nThree years after the destruction of the Death Star, Luke is now the commander of the Rebel Alliance\\'s Rogue Squadron.[10] While on a mission on the ice\\nplanet Hoth, he is captured by a wampa, but manages to escape using his lightsaber. In the frozen wasteland, he sees Obi-Wan\\'s Force spirit, who tells him to\\ntravel to the planet Dagobah and complete his training with the Jedi Master Yoda. Luke collapses but is later rescued by Han. When the Empire discovers the\\nRebel base on Hoth, Luke leads his squadron of snowspeeders to battle the enemy\\'s AT-ATs, but he is forced to retreat when his wingmen are overwhelmed.\\nEscaping in his X-wing, he travels to Dagobah and meets Yoda. He undergoes rigorous Jedi training, quickly increasing his power in the Force.\\nDuring his training, Luke sees a vision of his friends in danger. Against both Obi-Wan and Yoda\\'s advice to stay and complete his training, he travels to Bespin\\nto save them, unwittingly falling into a trap set by Vader. He engages in a lightsaber duel with Vader. As his mentors warned, Luke proves to be no match for\\nVader; the Sith Lord easily overpowers Luke and severs his right hand. Vader then reveals that he is Luke\\'s father, and offers him the chance to turn to the dark\\nside of the Force and rule the galaxy at his side. Resolving that he would rather die than become an agent of evil, Luke throws himself into a deep reactor chasm.\\nHe survives, but is pulled into a garbage chute to the underside of Cloud City, and left hanging perilously onto a vane rod. Leia, flying away from Cloud City in\\nthe Millennium Falcon, senses Luke\\'s call out to her with the Force, and turns the ship around to save him. Aboard the ship, he hears Vader telepathically telling\\nhim that it is his destiny to join the dark side. Luke\\'s severed hand is replaced with a bio-mechanical one.\\nReturn of the Jedi (1983)\\nMain article: Return of the Jedi\\nOne year later, Luke is a Jedi Knight,[11] and has constructed his own lightsaber.[c] He returns to Tatooine with Leia, Chewbacca, the droids, and Lando\\nCalrissian to save Han, frozen in carbonite, from the crime lord Jabba the Hutt. Luke offers to negotiate with Jabba, who rejects his offer and casts him into a pit\\nto battle a rancor. When Luke kills the rancor, he, Han, and Chewbacca are sentenced to death in the sarlacc pit. Luke escapes with R2-D2\\'s help, saving his\\nfriends and destroying Jabba\\'s sail barge.Luke returns to Dagobah, and learns from a dying Yoda that Vader is indeed his father. Luke then learns from Obi-Wan\\'s spirit that he has a twin sister, whom\\nhe immediately realizes is princess Leia. Both Jedi Masters tell Luke that he must face Vader again to finish his training and save the galaxy, but he is disturbed\\nby the idea of killing his own father.\\nArriving on Endor as part of a Rebel commando squad, Luke surrenders to Vader in an attempt to bring his father back from the dark side of the Force. Vader\\nbrings Luke to the second Death Star orbiting around Endor, where his master, Emperor Palpatine, tries to tempt Luke to the dark side, revealing his plan to\\ndestroy the Rebel fleet. Luke lashes out at the Emperor with his lightsaber, but Vader blocks his strike, and father and son once again duel with each other. Luke\\nregains control of his emotions until Vader senses that Luke has a sister, and threatens to turn her to the dark side if Luke will not submit. Luke snaps and\\noverpowers Vader, severing his father\\'s mechanical right hand. The Emperor orders Luke to kill Vader and take his place. Luke looks at his own bionic hand and\\nrealizes that he is on the verge of suffering his father\\'s fate. He casts his lightsaber aside, declaring himself a Jedi.\\nFurious, the Emperor tortures Luke with Force lightning. In agony, Luke calls out to his father for help; unwilling to let his son die, Vader throws the Emperor\\ndown a reactor shaft to his death, but is mortally wounded by the Emperor\\'s Force lightning in the process. As Rebel fighters head toward the second Death\\nStar\\'s main reactor, Luke removes Vader\\'s mask and looks upon his father\\'s real face for the first and last time. The redeemed Anakin Skywalker reassures Luke\\nthat there was good in him after all, and to tell his sister that he was right about him, before dying peacefully. On Endor, Luke burns his father\\'s body on a\\nfuneral pyre, giving him a proper Jedi funeral. During the Rebels\\' victory celebrations on Endor, Luke sees his father\\'s spirit appear alongside those of Obi-Wan\\nand Yoda.\\nPrequel trilogy\\nMain article: Star Wars prequel trilogy\\nRevenge of the Sith (2005)\\nIn the prequel film Revenge of the Sith (2005), during the waning days of the Clone Wars between the Galactic Republic and the Separatists, Senator Padmé\\nAmidala, wife of Jedi Knight Anakin Skywalker, becomes pregnant with Luke and Leia. Anakin has a prophetic vision of Padmé dying in childbirth, and allows\\nChancellor Palpatine – secretly the Sith Lord Darth Sidious – to corrupt him to the dark side as Darth Vader.\\nAfter Vader uses the dark side to choke her, Padmé is taken to Polis Massa, where she gives birth to Luke and Leia and dies, having lost the will to live after\\nVader\\'s betrayal. Obi-Wan and Yoda agree to separate the twins in order to protect them from the Sith and the newly created Galactic Empire. Obi-Wan takes\\nLuke to the desert planet Tatooine, where he is adopted by Vader\\'s stepbrother, Owen Lars, and his wife, Beru, while Leia is adopted by Senator Bail Organa of\\nAlderaan. The infant Luke is portrayed by Aidan Barton, the son of Roger Barton, an editor of the film.[13]\\nSequel trilogy\\nMain article: Star Wars sequel trilogy\\nThe Force Awakens (2015)\\nMark Hamill reprised the role of Luke in The Force Awakens (2015)\\nIn the first installment of the sequel trilogy, The Force Awakens (2015), the opening crawl reveals that Luke Skywalker had mysteriously vanished some time in\\nthe 30 years after the destruction of the second Death Star. Luke went into hiding after his nephew and apprentice, Ben Solo, turned to the dark side and becameKylo Ren, a warlord of the tyrannical First Order and its leader, Snoke. When Ren killed all of his fellow apprentices and ushered in the fall of the New\\nRepublic, Luke felt responsible, and disappeared. At the end of the film, the Resistance, led by Leia, manage to reconstruct a map, which traces the location of\\nthe temple from the Empire\\'s archives to his location, and he is subsequently found on the planet Ahch-To by the young scavenger, Rey, who presents him with\\nthe lightsaber previously wielded by both Luke and his father.\\nThe Last Jedi (2017)\\nIn The Last Jedi (2017), Luke throws the lightsaber away after Rey gives it to him. He then seals himself in his home, refusing to talk to Rey. However, when he\\nsees Chewbacca without Han and that Rey came on the Millennium Falcon, he inquires about what has gone on with his family. Rey informs Luke about Solo\\'s\\ndeath at the hands of Kylo Ren and that the First Order has risen to rule the galaxy. Rey asks Luke to train her in the ways of the Force. Luke is initially reluctant\\nto train Rey, telling her that it is time for the Jedi Order to end.\\nAfter some persuasion from R2-D2, however, Luke starts training Rey, but grows increasingly afraid of her power. Luke then tells Rey the history of the Jedi\\nOrder, how Darth Sidious rose to power and how the Jedi were partly responsible for his father\\'s fall to the dark side. Luke also initially tells Rey that Ben was\\ncorrupted by Snoke, and destroyed the Jedi Temple he confronted his treasonous nephew. Ultimately, however, Luke tells Rey the truth: He had briefly\\nconsidered killing the sleeping Ben after seeing a vision of the destruction he could cause, but immediately relented; Ben woke to see Luke with his lightsaber\\ndrawn and turned to the dark side because he felt betrayed. Upon learning this, Rey urges Luke to help her redeem Ben, but he refuses to participate in this nor\\nhelp the Resistance. When Rey leaves, an embittered Luke tries to burn the Jedi temple, but fails. He is then visited by the spirit of Yoda, who assures Luke that\\nhe still has a purpose.\\nLuke appears on the planet Crait, as the Resistance are staging a standoff against the First Order, and he apologizes to Leia for allowing Ben to fall to the dark\\nside. Luke steps in front of the First Order walkers, and unexpectedly survives an onslaught of blaster fire ordered by Ren. Ren charges at Luke in hand-to-hand\\ncombat, seemingly bisecting him with his lightsaber, but Luke remains unscathed; still on Ahch-To, Luke has sent a projection of himself to Crait, using the\\nForce. This distraction allows the Resistance to escape the planet. Luke tells Kylo that he will not be the last Jedi before his projection disappears. On Ahch-To,\\nLuke collapses then looks off in the horizon to see the planet\\'s two suns setting before he becomes one with the Force and vanishes.\\nThe Rise of Skywalker (2019)\\nLuke appears briefly in The Rise of Skywalker, the ninth and final chapter of the main series.[14] When Rey discovers her lineage as the resurrected Emperor\\nPalpatine\\'s granddaughter, she exiles herself on Ahch-To, just as Luke had. Meaning to isolate herself, she throws Luke\\'s lightsaber towards the burning\\nwreckage of Ren\\'s TIE whisper, in which she had traveled to her new home. Luke appears as a Force spirit, and reprimands Rey for treating the lightsaber with\\ndisrespect. Luke then admits that he was wrong not to participate in the Resistance, and thanks Rey for helping him rediscover himself. Luke convinces Rey to\\nnot view herself as a Palpatine, but as the good person Leia saw her as when training her, and not to give up on her battle against the Sith. Luke lends Rey his\\nold T-65B X-wing Red Five and tells Rey to combine his father\\'s lightsaber with Leia\\'s in her battle on Exegol. He also restrengthened Rey when she reached\\nout to and heard the voices of the past Jedi to help her destroy Palpatine once and for all.\\nAfter Rey vanquishes Palpatine once and for all, she visits the moisture farm on Tatooine where Luke was raised. She buries Luke and Leia\\'s lightsabers,\\nrevealing that she has constructed her own. A local asks Rey who she is. As Leia, who died earlier, and Luke appear as Force spirits, Rey names herself ReySkywalker.\\nTelevision series\\nLuke appears in the animated Disney micro-series Star Wars Forces of Destiny (with Hamill reprising his role). The episode \"The Path Ahead\" details him\\ntraining with Yoda on Dagobah.[15] He also appears in the episode \"Traps and Tribulations\", which takes place shortly after the Battle of Endor and shows him\\nand Leia assisting the Ewoks in stopping a rampaging monster known as a Gorax.[16]\\nLuke appears in \"Chapter 16: The Rescue\", the season two finale of The Mandalorian, after Grogu contacted him via the Force in a previous episode. Luke\\narrives on Moff Gideon\\'s cruiser and destroys all of the Dark Troopers, saving Grogu and his guardian, Din Djarin, as well as their companions. Luke then takes\\nGrogu with him to train him as a Jedi, with Djarin\\'s permission.[17]\\nLuke appears in the sixth episode, \"Chapter 6: From the Desert Comes a Stranger\", of the spin-off series The Book of Boba Fett. While training Grogu, he helps\\nhim remember some of his past, including his home at the Jedi Temple on Coruscant and the events of the Great Jedi Purge. Djarin comes to visit Grogu, but\\ndecides against it after speaking with Ahsoka Tano, not wanting to hinder his training; however, he gives Ahsoka a gift to deliver to Grogu: beskar chain mail\\nforged by the Armorer. Ahsoka gives the chain mail to Luke, who confesses that he is unsure whether Grogu is fully committed to the Jedi path and that he does\\nnot know how to handle the matter. Following Ahsoka\\'s advice to listen to his instincts, Luke decides to let Grogu choose his own destiny by asking him to\\nchoose between the chain mail and the lightsaber of his old master, Yoda.[18] In the seventh episode, \"Chapter 7: In The Name of Honour\", it is revealed that\\nGrogu chose the chain mail, leading Luke to send him back to Djarin. He places him in his X-wing starfighter, which is then flown to Tatooine by R2-D2, where\\nGrogu and Djarin are eventually reunited.[19]\\nLiterature\\nLuke is the main character of the novel Heir to the Jedi and the junior novel The Legends of Luke Skywalker (the latter of which was adapted as a manga).[20]\\nHe is also a main character of the 2015 comic Star Wars, which takes place between the films of the original trilogy.[21]\\nStar Wars: Heir to the Jedi was announced as one of the first four canon novels to be released in 2014 and 2015.[22] Set between A New Hope and The Empire\\nStrikes Back, Heir to the Jedi chronicles the adventures of Luke as he continues to battle the Empire with his Rebel friends,[23] grows close with fellow Rebel\\nNakari Kelen, and begins to develop his Force abilities. The novel is written from the first-person perspective of Luke, and is only the second Star Wars novel to\\nattempt this type of narrative voice.[d][23]\\nStar Wars: Shadow of the Sith is a novel set between Return of the Jedi and The Force Awakens. The book follows Luke and Lando Calrissian on a mission to\\nlocate Exegol.[24]\\nLegends\\nSee also: Star Wars expanded to other media\\nIn April 2014, most of the licensed Star Wars novels and comics produced since the originating 1977 film Star Wars were rebranded by Lucasfilm as Star Wars\\nLegends and declared non-canon to the franchise.[25][26][22] The Legends-branded novels, comic books and video games detail Luke\\'s exploits following\\nReturn of the Jedi.[27]Novels\\nIn the novel The Truce at Bakura, set one day after the battle of Endor, Luke and his friend Wedge Antilles recover a message droid from the titular planet,\\nwhich was being invaded by the Ssi-Ruuk. Luke commands a task force, turning back the enemy army. He also meets Dev Sibwarra, a Force-sensitive human\\nwho had been captured by the Ssi-Ruuk, who is killed in the battle after turning against his captors.[28]\\nIn the novel The Courtship of Princess Leia, set four years after the Battle of Endor, Luke travels to the planet Dathomir. There, he discovers a group of Force-\\nsensitive witches called the Witches of Dathomir, banded into two separate groups: a collective of benign, matriarchal clans; the one he is in contact with being\\nthe Singing Mountain Clan, and the witches who have turned to the dark side, called the Nightsisters. Discovering a prophecy in which it was told a Jedi would\\nchange the way of life on the land, Luke eventually realizes truly what the Force is for the first time in his life. While there, he destroys most of the Nightsisters\\n(including their powerful leader, Gethzirion, and the galaxy\\'s most powerful remaining warlord, Warlord Zsinj). Thanks to the help of the prophecy and witches,\\nLuke recovers old Jedi records left by Yoda about 400 years prior. He decides to start a new Jedi Academy, something he has been trying to do for six months\\nbefore the start of the novel by finding old Jedi records and archives.[29]\\nIn the Thrawn trilogy, Luke meets former Emperor\\'s Hand Mara Jade, who is bound by Palpatine\\'s disembodied voice that repeatedly commands \"You will kill\\nLuke Skywalker\". Mara Jade is working with her boss, a fringe-of-the-galaxy smuggler named Talon Karrde, who also plays a crucial role in this era. Although\\nshe was ready to fulfill that order to stop the voice, circumstances force her to keep him alive long enough to have him help escape a mutual danger. Despite her\\nthreats, Luke learns of the spell Mara is under and vows to free her from it. Meanwhile, the rest of the New Republic is fighting against Grand Admiral Thrawn,\\nand thanks to Leia\\'s help, he is eventually defeated, although several times Luke had to avoid getting captured by Thrawn or seduced by his ally, Joruus C\\'baoth.\\nEventually, he and Jade fight against Luke\\'s clone, Luuke Skywalker, C\\'baoth\\'s creation. During the fight, Mara Jade destroys the clone and, with Leia\\'s help,\\ndestroys C\\'baoth. This entire time, C\\'baoth has been obsessed with \"molding\" Luke and Mara to serve him, perhaps due to the fact that the Spaarti cloning\\ncylinders he was made from have a reputation of turning people insane later in life. Nonetheless, C\\'baoth is defeated by Mara along with Luuke, and Mara\\'s acts\\nsilences her curse and completes her reconciliation with the Jedi, whom she later joins.[30]\\nIn the Jedi Academy trilogy, Luke resigns his commission in the New Republic\\'s starfighter corps to pursue his Jedi studies and rebuild the Jedi Order in the\\nMassassi Temple on Yavin 4, a decision some anti-Jedi politicians use against him. Luke becomes the New Jedi Order\\'s leader. His students in the ways of the\\nForce include; Gantoris, Kam Solusar, Tionne, Streen, Cilghal, Kirana Ti and others. He is forced to contend with the spirit of ancient Sith Lord Exar Kun, who\\nlures one of his most powerful students, Kyp Durron, to the dark side.\\nIn the Hand of Thrawn Duology, Luke, now a Jedi Master, works again with Mara Jade, who has learned to better her Force knowledge since her training at\\nLuke\\'s Jedi Academy. He falls in love with her and they eventually marry. Later, in Edge of Victory: Rebirth, they have a son whom they name Ben, after Obi-\\nWan Kenobi\\'s pseudonym.\\nIn the New Jedi Order series, Luke creates a New Jedi Council. He idealises a new conclave, made up of Jedi, politicians and military officers. In Force Heretic:\\nRemnant, he spearheads the mission into the Unknown Regions during the Yuuzhan Vong invasion to find the mysterious planet of Zonama Sekot, a planet that\\ncreates living starships. After the invasion is defeated with the help of the new Mandalorian Warriors, a Sekotian fleet and a Galactic Alliance-Imperial Remnant\\nfleet, Luke leads the New Jedi Order on Denon, the temporary capital of the Galactic Alliance and the site of the newly rebuilt Jedi Temple on Coruscant. In TheSwarm War, the New Jedi Order moves to Ossus, the site of Jedi temples and libraries that were mostly destroyed 4,000 years prior. Upon the Killik\\'s invasion\\nof Chiss space and the transformation of most of the Myrkr mission survivors into Killik Joiners, Luke determines that the Killik\\'s collective mind is being\\nunconsciously controlled by a hive called the Dark Nest. The Dark Nest is controlled by a former Nightsister named Lomi Plo, who became their Unseen Queen\\nwith her ability to become invisible by exploiting the doubts of inferiors.\\nOne of the Myrkr mission survivors, Alema Rar, attempts to plant seeds of doubt in Luke\\'s mind by suggesting that his wife, Mara, may be somehow\\nresponsible for the death of his mother, Padmé Amidala, which he almost believes because of Mara\\'s previous role as the Emperor\\'s Hand. This allows Lomi to\\nescape from Luke, who discovers recordings of his father Force-choking his mother on Mustafar, his own birth, and his mother\\'s death hidden inside R2-D2\\'s\\nmemory drive. Because of this, he is able to overcome his doubts about Mara and defeat Lomi Plo in the final battle of the Swarm War, cutting her into four\\npieces.\\nLuke creates a New Jedi Council, and becomes the Grand Master of the New Jedi Order. He tells the Jedi to either follow his leadership, make the order their\\npriority, or leave. Luke is also forced to exile the Padawans Tahiri, Lowbacca, and Tesar Sebatayne to Dagobah for divulging secret information to people\\noutside the order.\\nIn the Legacy of the Force series, Luke begins having visions of a figure cloaked in darkness destroying the galaxy and the Jedi. Luke is troubled that he has\\nbeen unable to discern the identity of this figure, who seems to be much like Darth Vader. Complicating matters even more is the recent schism that has\\ndeveloped between Luke and his nephew, Jacen Solo. Already a tremendously powerful Jedi Knight, Jacen has begun adopting radical interpretations of the\\nForce, causing a dramatic change in his personality. Luke fears that Jacen is pursuing the same path that ultimately led to Anakin Skywalker\\'s fall to the dark\\nside.\\nIn Bloodlines, the situation worsens when Luke\\'s son, Ben, becomes Jacen\\'s apprentice. Luke must also battle his wife, who refuses to confront Jacen for fear of\\nalienating Ben. In Tempest, Luke determines that the dark figure from his dreams is Lumiya, a former Emperor\\'s Hand now known as the \"Dark Lady of the\\nSith\". When Mara is murdered in Sacrifice, Lumiya deceives Luke into believing that she killed her. They battle again, and Luke saves a weaponless Lumiya\\nfrom falling to her death simply so that he can kill her himself. Luke returns to Coruscant where he is found by Ben, standing guard over Mara\\'s body; upon\\nspeaking with his son, he realizes that Lumiya could not have killed her. Later in his private cabin, Luke breaks down over the death of his wife, knowing that\\nher murderer is still at large. He does not realize that the killer is his own nephew, Jacen, who has now taken the Sith name Darth Caedus. In Revelation, Ben\\nproves that Jacen killed Mara, but Luke is now reluctant to kill Jacen out of fear that he or his son will fall to the dark side in the process. The decision is taken\\nout of his hands in Invincible, when Jaina kills Jacen in a final lightsaber duel.\\nIn Fate of the Jedi novels, set about 40 years after the first film, Luke Skywalker, now in his early sixties, is deposed by the government from his position as\\nGrand Master, and exiled from Coruscant. However, if he finds the reason of why Jacen Solo fell to the dark side, he can be allowed to return. Ben insists on\\ncoming with him. Together, father and son explore dangerous and little-known portions of the galaxy. Luke and Ben learn much about each other, about the\\nForce, and about the great dangers threatening the Jedi. The great love the two surviving Skywalkers have for each other grows even greater as they repeatedly\\nsave each other\\'s lives and explore the limits and powers and mysteries of the Force.Luke Skywalker and the Shadows of Mindor\\nLuke Skywalker and the Shadows of Mindor is a standalone novel that chronicles the Battle of Mindor, a fictional event in the Star Wars expanded universe.\\nThe novel was written by Matthew Stover and released in December 2008.[31]\\nThe novel is set shortly after Return of the Jedi and the novel Prophets of the Dark Side, with Luke Skywalker and the Rebel Alliance attempting to stop Lord\\nShadowspawn and his \"shadow stormtroopers\", culminating in the Battle of Mindor.[31] Matthew Stover has said on his personal weblog,[32]\\nComic books\\nLuke Skywalker appears in the Marvel-published Star Wars comics adaptations of the original trilogy, as well as an ongoing series that ran from 1977 to 1986.\\nWhen Dark Horse acquired the license two years later, he appeared in numerous projects based on the franchise as well. In Star Wars: Legacy, set 125 years\\nafter the events of the original films, Luke appears as a spirit in the Force to his descendant Cade Skywalker and persuades him to once again become a Jedi in\\norder to defeat the evil Darth Krayt and his burgeoning Sith Empire.\\nCharacterization\\nPsychoanalytic\\nEach of the Star Wars characters instantiates one of the archetypes in Joseph Campbell\\'s hero\\'s journey,[33] with Luke Skywalker filling the hero archetype.[34]\\nAs such, he is a relatable protagonist who encounters the basic struggle between good and evil in the same way as other heroic figures such as Harry Potter,\\nBilbo Baggins, and Jesus Christ. Luke\\'s central dilemma is the ongoing war between good and evil, both externally and internally.\\nReligious\\nSome argue that Luke mirrors fundamental values of Christianity and Abrahamic religion; Luke\\'s journey is often compared to that of Jesus Christ. Scholars\\nargue that Luke is a Christ-like figure, while Yoda represents a god, and Darth Vader represents the temptations of evil. Luke\\'s struggle between good and evil is\\ncontrasted with that of his father, Anakin Skywalker, in a way that represents the story of the Prodigal Son.[35]\\nReception\\nIn regards to Luke\\'s portrayal in The Last Jedi, many fans expressed disappointment in how he was depicted \"as a grumpy old man whose failures had driven\\nhim into hiding\" and the actions the character takes in contributing to Kylo Ren\\'s backstory, a stark departure in how Luke was characterized in the original\\ntrilogy.[36] Hamill originally stated that he \"pretty much fundamentally [disagreed] with every choice [The Last Jedi director Rian Johnson] made for this\\ncharacter,\" but that he had the utmost respect for Johnson and was willing to do his part to realize Johnson\\'s vision.[37]\\nSee also\\nSkywalker family\\nNotes\\n^ In addition to Mark Hamill, voice performers include Eric Bauza, Bob Bergen, Joshua Fardon and Lloyd Floyd.\\n^ The film was originally titled Star Wars, then later retitled Star Wars: Episode IV—A New Hope.\\n^ Phil Szostak notes that Luke\\'s lightsaber design reflects that of Obi-Wan Kenobi\\'s.[12]\\n^ The first was Michael A. Stackpole\\'s 1997 Expanded Universe novel, I, Jedi.')], 'question': 'what is this data about ?', 'output_text': 'This data is about the **Star Wars character Luke Skywalker.** \\n\\nIt covers various aspects of the character, including:\\n\\n* **His role in the Star Wars franchise:** Protagonist of the original trilogy, appears in the sequel trilogy, pivotal in the fight against the Galactic Empire.\\n* **His backstory and relationships:** Raised on Tatooine, joins the Rebel Alliance, trains as a Jedi, confronts Darth Vader (his father), twin brother of Leia Organa.\\n* **His portrayal:** Played by Mark Hamill in films and TV series, also appears in other media.\\n* **Creation and development:** Early character concepts, name changes, explanation for appearance changes.\\n* **Detailed summaries of his appearances in all three Star Wars trilogies and other TV series.**\\n* **His appearances and character arc in the Star Wars expanded universe literature, including both canon and Legends material.**\\n* **Character analysis from psychoanalytic and religious perspectives.**\\n* **Reception of his character, particularly focusing on fan reactions to his portrayal in \"The Last Jedi\".** \\n'}\n"
     ]
    },
    {
     "name": "stderr",
     "output_type": "stream",
     "text": [
      "c:\\Harsh\\SEM 6\\AI Internship\\Setup\\myenv\\Lib\\site-packages\\langchain_core\\_api\\deprecation.py:119: LangChainDeprecationWarning: The method `Chain.__call__` was deprecated in langchain 0.1.0 and will be removed in 0.3.0. Use invoke instead.\n",
      "  warn_deprecated(\n"
     ]
    }
   ],
   "source": [
    "!python myFileFaiss.py"
   ]
  },
  {
   "cell_type": "code",
   "execution_count": null,
   "metadata": {},
   "outputs": [],
   "source": []
  }
 ],
 "metadata": {
  "kernelspec": {
   "display_name": "Python 3",
   "language": "python",
   "name": "python3"
  },
  "language_info": {
   "codemirror_mode": {
    "name": "ipython",
    "version": 3
   },
   "file_extension": ".py",
   "mimetype": "text/x-python",
   "name": "python",
   "nbconvert_exporter": "python",
   "pygments_lexer": "ipython3",
   "version": "3.11.2"
  }
 },
 "nbformat": 4,
 "nbformat_minor": 2
}
